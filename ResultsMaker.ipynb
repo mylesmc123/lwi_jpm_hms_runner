{
 "cells": [
  {
   "cell_type": "code",
   "execution_count": 7,
   "metadata": {},
   "outputs": [],
   "source": [
    "from pydsstools.heclib.dss import HecDss\n",
    "from pydsstools.core import TimeSeriesContainer\n",
    "import pandas as pd\n",
    "import numpy as np\n",
    "import glob\n",
    "import plotly\n",
    "from plotly.graph_objs import Scatter, Layout\n",
    "from plotly.subplots import make_subplots\n",
    "import plotly.graph_objects as go"
   ]
  },
  {
   "cell_type": "code",
   "execution_count": 21,
   "metadata": {},
   "outputs": [],
   "source": [
    "# for each dss file, get precip-inc at a location\n",
    "dss_dir = r\"Z:\\LWI\\EJPM-OS-Param-Rainfall-Tests\\hms_out_dss\\2004_Matthew\"\n",
    "dss_files = glob.glob(dss_dir+\"//*.dss\")\n",
    "dss_files = sorted(dss_files)\n",
    "\n",
    "event = 'Hurricane Matthew (2004)'\n",
    "hms_element = 'Amite'\n",
    "parameter = 'PRECIP-INC'\n",
    "n_columns = 1\n"
   ]
  },
  {
   "cell_type": "code",
   "execution_count": 20,
   "metadata": {},
   "outputs": [],
   "source": [
    "fid.close()"
   ]
  },
  {
   "cell_type": "code",
   "execution_count": 26,
   "metadata": {},
   "outputs": [
    {
     "ename": "Exception",
     "evalue": "The (row, col) pair sent is out of range. Use Figure.print_grid to view the subplot grid. ",
     "output_type": "error",
     "traceback": [
      "\u001b[1;31m---------------------------------------------------------------------------\u001b[0m",
      "\u001b[1;31mIndexError\u001b[0m                                Traceback (most recent call last)",
      "File \u001b[1;32mc:\\Tools\\Anaconda3\\envs\\xr39\\lib\\site-packages\\plotly\\subplots.py:1352\u001b[0m, in \u001b[0;36m_set_trace_grid_reference\u001b[1;34m(trace, layout, grid_ref, row, col, secondary_y)\u001b[0m\n\u001b[0;32m   1351\u001b[0m \u001b[39mtry\u001b[39;00m:\n\u001b[1;32m-> 1352\u001b[0m     subplot_refs \u001b[39m=\u001b[39m grid_ref[row \u001b[39m-\u001b[39;49m \u001b[39m1\u001b[39;49m][col \u001b[39m-\u001b[39m \u001b[39m1\u001b[39m]\n\u001b[0;32m   1353\u001b[0m \u001b[39mexcept\u001b[39;00m \u001b[39mIndexError\u001b[39;00m:\n",
      "\u001b[1;31mIndexError\u001b[0m: list index out of range",
      "\nDuring handling of the above exception, another exception occurred:\n",
      "\u001b[1;31mException\u001b[0m                                 Traceback (most recent call last)",
      "\u001b[1;32mc:\\py\\lwi_jpm_hms_runner\\ResultsMaker.ipynb Cell 4\u001b[0m in \u001b[0;36m<cell line: 1>\u001b[1;34m()\u001b[0m\n\u001b[0;32m     <a href='vscode-notebook-cell:/c%3A/py/lwi_jpm_hms_runner/ResultsMaker.ipynb#X20sZmlsZQ%3D%3D?line=46'>47</a>\u001b[0m \u001b[39m# Setup plotly trace\u001b[39;00m\n\u001b[0;32m     <a href='vscode-notebook-cell:/c%3A/py/lwi_jpm_hms_runner/ResultsMaker.ipynb#X20sZmlsZQ%3D%3D?line=47'>48</a>\u001b[0m fig \u001b[39m=\u001b[39m make_subplots(  \n\u001b[0;32m     <a href='vscode-notebook-cell:/c%3A/py/lwi_jpm_hms_runner/ResultsMaker.ipynb#X20sZmlsZQ%3D%3D?line=48'>49</a>\u001b[0m     rows\u001b[39m=\u001b[39mn, \n\u001b[0;32m     <a href='vscode-notebook-cell:/c%3A/py/lwi_jpm_hms_runner/ResultsMaker.ipynb#X20sZmlsZQ%3D%3D?line=49'>50</a>\u001b[0m     cols\u001b[39m=\u001b[39mn_columns, \n\u001b[1;32m   (...)\u001b[0m\n\u001b[0;32m     <a href='vscode-notebook-cell:/c%3A/py/lwi_jpm_hms_runner/ResultsMaker.ipynb#X20sZmlsZQ%3D%3D?line=52'>53</a>\u001b[0m     subplot_titles\u001b[39m=\u001b[39msubPlotTitleList\n\u001b[0;32m     <a href='vscode-notebook-cell:/c%3A/py/lwi_jpm_hms_runner/ResultsMaker.ipynb#X20sZmlsZQ%3D%3D?line=53'>54</a>\u001b[0m )\n\u001b[1;32m---> <a href='vscode-notebook-cell:/c%3A/py/lwi_jpm_hms_runner/ResultsMaker.ipynb#X20sZmlsZQ%3D%3D?line=55'>56</a>\u001b[0m fig\u001b[39m.\u001b[39;49mappend_trace(\n\u001b[0;32m     <a href='vscode-notebook-cell:/c%3A/py/lwi_jpm_hms_runner/ResultsMaker.ipynb#X20sZmlsZQ%3D%3D?line=56'>57</a>\u001b[0m     go\u001b[39m.\u001b[39;49mScatter(\n\u001b[0;32m     <a href='vscode-notebook-cell:/c%3A/py/lwi_jpm_hms_runner/ResultsMaker.ipynb#X20sZmlsZQ%3D%3D?line=57'>58</a>\u001b[0m         x\u001b[39m=\u001b[39;49mdf\u001b[39m.\u001b[39;49mTimes, \n\u001b[0;32m     <a href='vscode-notebook-cell:/c%3A/py/lwi_jpm_hms_runner/ResultsMaker.ipynb#X20sZmlsZQ%3D%3D?line=58'>59</a>\u001b[0m         y\u001b[39m=\u001b[39;49mdf\u001b[39m.\u001b[39;49mValues,\n\u001b[0;32m     <a href='vscode-notebook-cell:/c%3A/py/lwi_jpm_hms_runner/ResultsMaker.ipynb#X20sZmlsZQ%3D%3D?line=59'>60</a>\u001b[0m         name \u001b[39m=\u001b[39;49m subbasin,\n\u001b[0;32m     <a href='vscode-notebook-cell:/c%3A/py/lwi_jpm_hms_runner/ResultsMaker.ipynb#X20sZmlsZQ%3D%3D?line=60'>61</a>\u001b[0m     ), \n\u001b[0;32m     <a href='vscode-notebook-cell:/c%3A/py/lwi_jpm_hms_runner/ResultsMaker.ipynb#X20sZmlsZQ%3D%3D?line=61'>62</a>\u001b[0m     row\u001b[39m=\u001b[39;49mi\u001b[39m+\u001b[39;49m\u001b[39m1\u001b[39;49m,\n\u001b[0;32m     <a href='vscode-notebook-cell:/c%3A/py/lwi_jpm_hms_runner/ResultsMaker.ipynb#X20sZmlsZQ%3D%3D?line=62'>63</a>\u001b[0m     \u001b[39m# row = 1, \u001b[39;49;00m\n\u001b[0;32m     <a href='vscode-notebook-cell:/c%3A/py/lwi_jpm_hms_runner/ResultsMaker.ipynb#X20sZmlsZQ%3D%3D?line=63'>64</a>\u001b[0m     col\u001b[39m=\u001b[39;49m\u001b[39m1\u001b[39;49m\n\u001b[0;32m     <a href='vscode-notebook-cell:/c%3A/py/lwi_jpm_hms_runner/ResultsMaker.ipynb#X20sZmlsZQ%3D%3D?line=64'>65</a>\u001b[0m )\n\u001b[0;32m     <a href='vscode-notebook-cell:/c%3A/py/lwi_jpm_hms_runner/ResultsMaker.ipynb#X20sZmlsZQ%3D%3D?line=66'>67</a>\u001b[0m fig\u001b[39m.\u001b[39madd_annotation(\n\u001b[0;32m     <a href='vscode-notebook-cell:/c%3A/py/lwi_jpm_hms_runner/ResultsMaker.ipynb#X20sZmlsZQ%3D%3D?line=67'>68</a>\u001b[0m     text\u001b[39m=\u001b[39msubbasin,\n\u001b[0;32m     <a href='vscode-notebook-cell:/c%3A/py/lwi_jpm_hms_runner/ResultsMaker.ipynb#X20sZmlsZQ%3D%3D?line=68'>69</a>\u001b[0m     xref\u001b[39m=\u001b[39m\u001b[39m\"\u001b[39m\u001b[39mx domain\u001b[39m\u001b[39m\"\u001b[39m, yref\u001b[39m=\u001b[39m\u001b[39m\"\u001b[39m\u001b[39my domain\u001b[39m\u001b[39m\"\u001b[39m,\n\u001b[1;32m   (...)\u001b[0m\n\u001b[0;32m     <a href='vscode-notebook-cell:/c%3A/py/lwi_jpm_hms_runner/ResultsMaker.ipynb#X20sZmlsZQ%3D%3D?line=73'>74</a>\u001b[0m     font\u001b[39m=\u001b[39m\u001b[39mdict\u001b[39m(family\u001b[39m=\u001b[39m\u001b[39m'\u001b[39m\u001b[39msans-serif\u001b[39m\u001b[39m'\u001b[39m, size\u001b[39m=\u001b[39m\u001b[39m22\u001b[39m)\n\u001b[0;32m     <a href='vscode-notebook-cell:/c%3A/py/lwi_jpm_hms_runner/ResultsMaker.ipynb#X20sZmlsZQ%3D%3D?line=74'>75</a>\u001b[0m )\n\u001b[0;32m     <a href='vscode-notebook-cell:/c%3A/py/lwi_jpm_hms_runner/ResultsMaker.ipynb#X20sZmlsZQ%3D%3D?line=76'>77</a>\u001b[0m fig\u001b[39m.\u001b[39mupdate_layout(\n\u001b[0;32m     <a href='vscode-notebook-cell:/c%3A/py/lwi_jpm_hms_runner/ResultsMaker.ipynb#X20sZmlsZQ%3D%3D?line=77'>78</a>\u001b[0m     height\u001b[39m=\u001b[39mn\u001b[39m*\u001b[39m\u001b[39m800\u001b[39m, \n\u001b[0;32m     <a href='vscode-notebook-cell:/c%3A/py/lwi_jpm_hms_runner/ResultsMaker.ipynb#X20sZmlsZQ%3D%3D?line=78'>79</a>\u001b[0m     width\u001b[39m=\u001b[39m\u001b[39m2540\u001b[39m, \n\u001b[1;32m   (...)\u001b[0m\n\u001b[0;32m     <a href='vscode-notebook-cell:/c%3A/py/lwi_jpm_hms_runner/ResultsMaker.ipynb#X20sZmlsZQ%3D%3D?line=86'>87</a>\u001b[0m     )\n\u001b[0;32m     <a href='vscode-notebook-cell:/c%3A/py/lwi_jpm_hms_runner/ResultsMaker.ipynb#X20sZmlsZQ%3D%3D?line=87'>88</a>\u001b[0m )\n",
      "File \u001b[1;32mc:\\Tools\\Anaconda3\\envs\\xr39\\lib\\site-packages\\plotly\\basedatatypes.py:2315\u001b[0m, in \u001b[0;36mBaseFigure.append_trace\u001b[1;34m(self, trace, row, col)\u001b[0m\n\u001b[0;32m   2275\u001b[0m         \u001b[39m\"\"\"\u001b[39;00m\n\u001b[0;32m   2276\u001b[0m \u001b[39m        Add a trace to the figure bound to axes at the specified row,\u001b[39;00m\n\u001b[0;32m   2277\u001b[0m \u001b[39m        col index.\u001b[39;00m\n\u001b[1;32m   (...)\u001b[0m\n\u001b[0;32m   2305\u001b[0m \u001b[39m        >>> fig.append_trace(go.Scatter(x=[1,2,3], y=[2,1,2]), row=2, col=1)\u001b[39;00m\n\u001b[0;32m   2306\u001b[0m \u001b[39m        \"\"\"\u001b[39;00m\n\u001b[0;32m   2307\u001b[0m         warnings\u001b[39m.\u001b[39mwarn(\n\u001b[0;32m   2308\u001b[0m             \u001b[39m\"\"\"\\\u001b[39;00m\n\u001b[0;32m   2309\u001b[0m \u001b[39mThe append_trace method is deprecated and will be removed in a future version.\u001b[39;00m\n\u001b[1;32m   (...)\u001b[0m\n\u001b[0;32m   2312\u001b[0m             \u001b[39mDeprecationWarning\u001b[39;00m,\n\u001b[0;32m   2313\u001b[0m         )\n\u001b[1;32m-> 2315\u001b[0m         \u001b[39mself\u001b[39;49m\u001b[39m.\u001b[39;49madd_trace(trace\u001b[39m=\u001b[39;49mtrace, row\u001b[39m=\u001b[39;49mrow, col\u001b[39m=\u001b[39;49mcol)\n",
      "File \u001b[1;32mc:\\Tools\\Anaconda3\\envs\\xr39\\lib\\site-packages\\plotly\\basedatatypes.py:2099\u001b[0m, in \u001b[0;36mBaseFigure.add_trace\u001b[1;34m(self, trace, row, col, secondary_y, exclude_empty_subplots)\u001b[0m\n\u001b[0;32m   2090\u001b[0m         \u001b[39mself\u001b[39m\u001b[39m.\u001b[39madd_trace(\n\u001b[0;32m   2091\u001b[0m             trace,\n\u001b[0;32m   2092\u001b[0m             row\u001b[39m=\u001b[39mr,\n\u001b[1;32m   (...)\u001b[0m\n\u001b[0;32m   2095\u001b[0m             exclude_empty_subplots\u001b[39m=\u001b[39mexclude_empty_subplots,\n\u001b[0;32m   2096\u001b[0m         )\n\u001b[0;32m   2097\u001b[0m     \u001b[39mreturn\u001b[39;00m \u001b[39mself\u001b[39m\n\u001b[1;32m-> 2099\u001b[0m \u001b[39mreturn\u001b[39;00m \u001b[39mself\u001b[39;49m\u001b[39m.\u001b[39;49madd_traces(\n\u001b[0;32m   2100\u001b[0m     data\u001b[39m=\u001b[39;49m[trace],\n\u001b[0;32m   2101\u001b[0m     rows\u001b[39m=\u001b[39;49m[row] \u001b[39mif\u001b[39;49;00m row \u001b[39mis\u001b[39;49;00m \u001b[39mnot\u001b[39;49;00m \u001b[39mNone\u001b[39;49;00m \u001b[39melse\u001b[39;49;00m \u001b[39mNone\u001b[39;49;00m,\n\u001b[0;32m   2102\u001b[0m     cols\u001b[39m=\u001b[39;49m[col] \u001b[39mif\u001b[39;49;00m col \u001b[39mis\u001b[39;49;00m \u001b[39mnot\u001b[39;49;00m \u001b[39mNone\u001b[39;49;00m \u001b[39melse\u001b[39;49;00m \u001b[39mNone\u001b[39;49;00m,\n\u001b[0;32m   2103\u001b[0m     secondary_ys\u001b[39m=\u001b[39;49m[secondary_y] \u001b[39mif\u001b[39;49;00m secondary_y \u001b[39mis\u001b[39;49;00m \u001b[39mnot\u001b[39;49;00m \u001b[39mNone\u001b[39;49;00m \u001b[39melse\u001b[39;49;00m \u001b[39mNone\u001b[39;49;00m,\n\u001b[0;32m   2104\u001b[0m     exclude_empty_subplots\u001b[39m=\u001b[39;49mexclude_empty_subplots,\n\u001b[0;32m   2105\u001b[0m )\n",
      "File \u001b[1;32mc:\\Tools\\Anaconda3\\envs\\xr39\\lib\\site-packages\\plotly\\basedatatypes.py:2229\u001b[0m, in \u001b[0;36mBaseFigure.add_traces\u001b[1;34m(self, data, rows, cols, secondary_ys, exclude_empty_subplots)\u001b[0m\n\u001b[0;32m   2227\u001b[0m \u001b[39mif\u001b[39;00m rows \u001b[39mis\u001b[39;00m \u001b[39mnot\u001b[39;00m \u001b[39mNone\u001b[39;00m:\n\u001b[0;32m   2228\u001b[0m     \u001b[39mfor\u001b[39;00m trace, row, col, secondary_y \u001b[39min\u001b[39;00m \u001b[39mzip\u001b[39m(data, rows, cols, secondary_ys):\n\u001b[1;32m-> 2229\u001b[0m         \u001b[39mself\u001b[39;49m\u001b[39m.\u001b[39;49m_set_trace_grid_position(trace, row, col, secondary_y)\n\u001b[0;32m   2231\u001b[0m \u001b[39mif\u001b[39;00m exclude_empty_subplots:\n\u001b[0;32m   2232\u001b[0m     data \u001b[39m=\u001b[39m \u001b[39mlist\u001b[39m(\n\u001b[0;32m   2233\u001b[0m         \u001b[39mfilter\u001b[39m(\n\u001b[0;32m   2234\u001b[0m             \u001b[39mlambda\u001b[39;00m trace: \u001b[39mself\u001b[39m\u001b[39m.\u001b[39m_subplot_not_empty(\n\u001b[1;32m   (...)\u001b[0m\n\u001b[0;32m   2238\u001b[0m         )\n\u001b[0;32m   2239\u001b[0m     )\n",
      "File \u001b[1;32mc:\\Tools\\Anaconda3\\envs\\xr39\\lib\\site-packages\\plotly\\basedatatypes.py:2321\u001b[0m, in \u001b[0;36mBaseFigure._set_trace_grid_position\u001b[1;34m(self, trace, row, col, secondary_y)\u001b[0m\n\u001b[0;32m   2318\u001b[0m \u001b[39mfrom\u001b[39;00m \u001b[39mplotly\u001b[39;00m\u001b[39m.\u001b[39;00m\u001b[39msubplots\u001b[39;00m \u001b[39mimport\u001b[39;00m _set_trace_grid_reference\n\u001b[0;32m   2320\u001b[0m grid_ref \u001b[39m=\u001b[39m \u001b[39mself\u001b[39m\u001b[39m.\u001b[39m_validate_get_grid_ref()\n\u001b[1;32m-> 2321\u001b[0m \u001b[39mreturn\u001b[39;00m _set_trace_grid_reference(\n\u001b[0;32m   2322\u001b[0m     trace, \u001b[39mself\u001b[39;49m\u001b[39m.\u001b[39;49mlayout, grid_ref, row, col, secondary_y\n\u001b[0;32m   2323\u001b[0m )\n",
      "File \u001b[1;32mc:\\Tools\\Anaconda3\\envs\\xr39\\lib\\site-packages\\plotly\\subplots.py:1354\u001b[0m, in \u001b[0;36m_set_trace_grid_reference\u001b[1;34m(trace, layout, grid_ref, row, col, secondary_y)\u001b[0m\n\u001b[0;32m   1352\u001b[0m         subplot_refs \u001b[39m=\u001b[39m grid_ref[row \u001b[39m-\u001b[39m \u001b[39m1\u001b[39m][col \u001b[39m-\u001b[39m \u001b[39m1\u001b[39m]\n\u001b[0;32m   1353\u001b[0m     \u001b[39mexcept\u001b[39;00m \u001b[39mIndexError\u001b[39;00m:\n\u001b[1;32m-> 1354\u001b[0m         \u001b[39mraise\u001b[39;00m \u001b[39mException\u001b[39;00m(\n\u001b[0;32m   1355\u001b[0m             \u001b[39m\"\u001b[39m\u001b[39mThe (row, col) pair sent is out of \u001b[39m\u001b[39m\"\u001b[39m\n\u001b[0;32m   1356\u001b[0m             \u001b[39m\"\u001b[39m\u001b[39mrange. Use Figure.print_grid to view the \u001b[39m\u001b[39m\"\u001b[39m\n\u001b[0;32m   1357\u001b[0m             \u001b[39m\"\u001b[39m\u001b[39msubplot grid. \u001b[39m\u001b[39m\"\u001b[39m\n\u001b[0;32m   1358\u001b[0m         )\n\u001b[0;32m   1360\u001b[0m     \u001b[39mif\u001b[39;00m \u001b[39mnot\u001b[39;00m subplot_refs:\n\u001b[0;32m   1361\u001b[0m         \u001b[39mraise\u001b[39;00m \u001b[39mValueError\u001b[39;00m(\n\u001b[0;32m   1362\u001b[0m             \u001b[39m\"\"\"\u001b[39;00m\n\u001b[0;32m   1363\u001b[0m \u001b[39mNo subplot specified at grid position ({row}, {col})\"\"\"\u001b[39;00m\u001b[39m.\u001b[39mformat(\n\u001b[0;32m   1364\u001b[0m                 row\u001b[39m=\u001b[39mrow, col\u001b[39m=\u001b[39mcol\n\u001b[0;32m   1365\u001b[0m             )\n\u001b[0;32m   1366\u001b[0m         )\n",
      "\u001b[1;31mException\u001b[0m: The (row, col) pair sent is out of range. Use Figure.print_grid to view the subplot grid. "
     ]
    }
   ],
   "source": [
    "for i, dss_file in enumerate(dss_files):\n",
    "    \n",
    "    sim = dss_file.split(\".\")[0].split(\"_\")[-1]\n",
    "    fid = HecDss.Open(fr\"{dss_file}\")\n",
    "    pathname_pattern = f'//{hms_element}/{parameter}/*/1HOUR/*/'\n",
    "    path_list = fid.getPathnameList(pathname_pattern,sort=1)\n",
    "    subbasinList = []\n",
    "    DSSpaths_List = []\n",
    "    \n",
    "    for path in path_list:\n",
    "        \n",
    "        pathSplit = path.split(\"/\")\n",
    "        subbasin = pathSplit[2]\n",
    "        cPart = pathSplit[3]\n",
    "        ePart = pathSplit[5]\n",
    "        fPart = pathSplit[6]\n",
    "        subbasinList.append(subbasin)\n",
    "        \n",
    "        # Remove d-part\n",
    "        noDpartPath = f\"//{subbasin}/{cPart}//{ePart}/{fPart}/\"\n",
    "        DSSpaths_List.append(noDpartPath)\n",
    "    \n",
    "    # sort the lists alphabetically, and remove dups\n",
    "    subbasinList = sorted(list(set(subbasinList)))\n",
    "    DSSpaths_List = sorted(list(set(DSSpaths_List)))\n",
    "    \n",
    "    n = len(DSSpaths_List)\n",
    "    subPlotTitleList  = subbasinList\n",
    "\n",
    "    for path in DSSpaths_List:\n",
    "        \n",
    "        ts = fid.read_ts(path)\n",
    "        \n",
    "        # setup dataframe of trace\n",
    "        df = pd.DataFrame()\n",
    "        df['Times'] = ts.pytimes\n",
    "        df['Values'] = ts.values\n",
    "        df['Missing'] = ts.nodata\n",
    "        df.Values = np.where(df.Missing == True, np.NaN, df.Values)\n",
    "        df['sim'] = sim\n",
    "        \n",
    "        try: \n",
    "            vertical_spacing = .1/(n-1)\n",
    "        except:\n",
    "            vertical_spacing = 1\n",
    "        \n",
    "        # Setup plotly trace\n",
    "        fig = make_subplots(  \n",
    "            rows=n, \n",
    "            cols=n_columns, \n",
    "            vertical_spacing=vertical_spacing,\n",
    "            # vertical_spacing=.1/(1),\n",
    "            subplot_titles=subPlotTitleList\n",
    "        )\n",
    "\n",
    "        fig.append_trace(\n",
    "            go.Scatter(\n",
    "                x=df.Times, \n",
    "                y=df.Values,\n",
    "                name = subbasin,\n",
    "            ), \n",
    "            row=i+1,\n",
    "            # row = 1, \n",
    "            col=1\n",
    "        )\n",
    "\n",
    "        fig.add_annotation(\n",
    "            text=subbasin,\n",
    "            xref=\"x domain\", yref=\"y domain\",\n",
    "            x=0.9, y=0.9, showarrow=False,\n",
    "            row=i+1,\n",
    "            # row = 1, \n",
    "            col=1,\n",
    "            font=dict(family='sans-serif', size=22)\n",
    "        )\n",
    "\n",
    "        fig.update_layout(\n",
    "            height=n*800, \n",
    "            width=2540, \n",
    "            title_text=f\"JPM Parametric Rainfall Simulations\",\n",
    "            template= \"plotly_dark\",\n",
    "            hoverlabel=dict(\n",
    "                font=dict(\n",
    "                    family='sans-serif', size=22\n",
    "                ),\n",
    "                namelength= -1\n",
    "            )\n",
    "        )\n",
    "\n"
   ]
  },
  {
   "cell_type": "code",
   "execution_count": 3,
   "metadata": {},
   "outputs": [],
   "source": [
    "fid = HecDss.Open(r\"Z:\\LWI\\EJPM-OS-Param-Rainfall-Tests\\hms_out_dss\\2004_Matthew\\TS_Matthew_JPM_Sim1.dss\")"
   ]
  },
  {
   "cell_type": "code",
   "execution_count": 4,
   "metadata": {},
   "outputs": [],
   "source": [
    "pathname_pattern = f'//{hms_element}/{parameter}/*/1HOUR/*/'\n",
    "path_list = fid.getPathnameList(pathname_pattern,sort=1)"
   ]
  },
  {
   "cell_type": "code",
   "execution_count": 27,
   "metadata": {},
   "outputs": [
    {
     "data": {
      "text/plain": [
       "['//AMITE/PRECIP-INC//1HOUR/MET:TS_MATTHEW_JPM_SIM10/']"
      ]
     },
     "execution_count": 27,
     "metadata": {},
     "output_type": "execute_result"
    }
   ],
   "source": [
    "subbasinList = []\n",
    "DSSpaths_List = []\n",
    "for path in path_list:\n",
    "    pathSplit = path.split(\"/\")\n",
    "    subbasin = pathSplit[2]\n",
    "    cPart = pathSplit[3]\n",
    "    ePart = pathSplit[5]\n",
    "    fPart = pathSplit[6]\n",
    "    subbasinList.append(subbasin)\n",
    "    # Remove d-part\n",
    "    noDpartPath = f\"//{subbasin}/{cPart}//{ePart}/{fPart}/\"\n",
    "    DSSpaths_List.append(noDpartPath)\n",
    "    \n",
    "\n",
    "# sort the lists alphabetically, and remove dups\n",
    "subbasinList = sorted(list(set(subbasinList)))\n",
    "DSSpaths_List = sorted(list(set(DSSpaths_List)))\n",
    "\n",
    "DSSpaths_List"
   ]
  },
  {
   "cell_type": "code",
   "execution_count": 28,
   "metadata": {},
   "outputs": [],
   "source": [
    "ts = fid.read_ts(DSSpaths_List[0])"
   ]
  },
  {
   "cell_type": "code",
   "execution_count": null,
   "metadata": {},
   "outputs": [],
   "source": [
    "df_multi = pd.DataFrame() "
   ]
  },
  {
   "cell_type": "code",
   "execution_count": 29,
   "metadata": {},
   "outputs": [
    {
     "data": {
      "text/html": [
       "<div>\n",
       "<style scoped>\n",
       "    .dataframe tbody tr th:only-of-type {\n",
       "        vertical-align: middle;\n",
       "    }\n",
       "\n",
       "    .dataframe tbody tr th {\n",
       "        vertical-align: top;\n",
       "    }\n",
       "\n",
       "    .dataframe thead th {\n",
       "        text-align: right;\n",
       "    }\n",
       "</style>\n",
       "<table border=\"1\" class=\"dataframe\">\n",
       "  <thead>\n",
       "    <tr style=\"text-align: right;\">\n",
       "      <th></th>\n",
       "      <th>Times</th>\n",
       "      <th>Values</th>\n",
       "      <th>Missing</th>\n",
       "      <th>sim</th>\n",
       "    </tr>\n",
       "  </thead>\n",
       "  <tbody>\n",
       "    <tr>\n",
       "      <th>0</th>\n",
       "      <td>2004-10-05 01:00:00</td>\n",
       "      <td>0.0</td>\n",
       "      <td>False</td>\n",
       "      <td>Sim10</td>\n",
       "    </tr>\n",
       "    <tr>\n",
       "      <th>1</th>\n",
       "      <td>2004-10-05 02:00:00</td>\n",
       "      <td>0.0</td>\n",
       "      <td>False</td>\n",
       "      <td>Sim10</td>\n",
       "    </tr>\n",
       "    <tr>\n",
       "      <th>2</th>\n",
       "      <td>2004-10-05 03:00:00</td>\n",
       "      <td>0.0</td>\n",
       "      <td>False</td>\n",
       "      <td>Sim10</td>\n",
       "    </tr>\n",
       "    <tr>\n",
       "      <th>3</th>\n",
       "      <td>2004-10-05 04:00:00</td>\n",
       "      <td>0.0</td>\n",
       "      <td>False</td>\n",
       "      <td>Sim10</td>\n",
       "    </tr>\n",
       "    <tr>\n",
       "      <th>4</th>\n",
       "      <td>2004-10-05 05:00:00</td>\n",
       "      <td>0.0</td>\n",
       "      <td>False</td>\n",
       "      <td>Sim10</td>\n",
       "    </tr>\n",
       "    <tr>\n",
       "      <th>...</th>\n",
       "      <td>...</td>\n",
       "      <td>...</td>\n",
       "      <td>...</td>\n",
       "      <td>...</td>\n",
       "    </tr>\n",
       "    <tr>\n",
       "      <th>475</th>\n",
       "      <td>2004-10-24 20:00:00</td>\n",
       "      <td>0.0</td>\n",
       "      <td>False</td>\n",
       "      <td>Sim10</td>\n",
       "    </tr>\n",
       "    <tr>\n",
       "      <th>476</th>\n",
       "      <td>2004-10-24 21:00:00</td>\n",
       "      <td>0.0</td>\n",
       "      <td>False</td>\n",
       "      <td>Sim10</td>\n",
       "    </tr>\n",
       "    <tr>\n",
       "      <th>477</th>\n",
       "      <td>2004-10-24 22:00:00</td>\n",
       "      <td>0.0</td>\n",
       "      <td>False</td>\n",
       "      <td>Sim10</td>\n",
       "    </tr>\n",
       "    <tr>\n",
       "      <th>478</th>\n",
       "      <td>2004-10-24 23:00:00</td>\n",
       "      <td>0.0</td>\n",
       "      <td>False</td>\n",
       "      <td>Sim10</td>\n",
       "    </tr>\n",
       "    <tr>\n",
       "      <th>479</th>\n",
       "      <td>2004-10-25 00:00:00</td>\n",
       "      <td>0.0</td>\n",
       "      <td>False</td>\n",
       "      <td>Sim10</td>\n",
       "    </tr>\n",
       "  </tbody>\n",
       "</table>\n",
       "<p>480 rows × 4 columns</p>\n",
       "</div>"
      ],
      "text/plain": [
       "                  Times  Values  Missing    sim\n",
       "0   2004-10-05 01:00:00     0.0    False  Sim10\n",
       "1   2004-10-05 02:00:00     0.0    False  Sim10\n",
       "2   2004-10-05 03:00:00     0.0    False  Sim10\n",
       "3   2004-10-05 04:00:00     0.0    False  Sim10\n",
       "4   2004-10-05 05:00:00     0.0    False  Sim10\n",
       "..                  ...     ...      ...    ...\n",
       "475 2004-10-24 20:00:00     0.0    False  Sim10\n",
       "476 2004-10-24 21:00:00     0.0    False  Sim10\n",
       "477 2004-10-24 22:00:00     0.0    False  Sim10\n",
       "478 2004-10-24 23:00:00     0.0    False  Sim10\n",
       "479 2004-10-25 00:00:00     0.0    False  Sim10\n",
       "\n",
       "[480 rows x 4 columns]"
      ]
     },
     "execution_count": 29,
     "metadata": {},
     "output_type": "execute_result"
    }
   ],
   "source": [
    "\n",
    "df = pd.DataFrame()\n",
    "\n",
    "\n",
    "df['Times'] = ts.pytimes\n",
    "df['Values'] = ts.values\n",
    "df['Missing'] = ts.nodata\n",
    "df.Values = np.where(df.Missing == True, np.NaN, df.Values)\n",
    "df['sim'] = sim\n",
    "\n",
    "df\n",
    "# df_multi.concat(df, ignore_index=True)\n",
    "# df_multi"
   ]
  },
  {
   "cell_type": "code",
   "execution_count": 33,
   "metadata": {},
   "outputs": [],
   "source": [
    "df2 = pd.DataFrame()\n",
    "df2 = pd.concat([df2,df])\n",
    "df2.to_csv('df.csv')"
   ]
  },
  {
   "cell_type": "code",
   "execution_count": null,
   "metadata": {},
   "outputs": [],
   "source": [
    "import matplotlib.pyplot as plt\n",
    "plt.plot(df.Times,df.Values)"
   ]
  },
  {
   "cell_type": "code",
   "execution_count": 15,
   "metadata": {},
   "outputs": [
    {
     "data": {
      "application/vnd.plotly.v1+json": {
       "config": {
        "plotlyServerURL": "https://plot.ly"
       },
       "data": [
        {
         "name": "AMITE",
         "type": "scatter",
         "x": [
          "2004-10-05T01:00:00",
          "2004-10-05T02:00:00",
          "2004-10-05T03:00:00",
          "2004-10-05T04:00:00",
          "2004-10-05T05:00:00",
          "2004-10-05T06:00:00",
          "2004-10-05T07:00:00",
          "2004-10-05T08:00:00",
          "2004-10-05T09:00:00",
          "2004-10-05T10:00:00",
          "2004-10-05T11:00:00",
          "2004-10-05T12:00:00",
          "2004-10-05T13:00:00",
          "2004-10-05T14:00:00",
          "2004-10-05T15:00:00",
          "2004-10-05T16:00:00",
          "2004-10-05T17:00:00",
          "2004-10-05T18:00:00",
          "2004-10-05T19:00:00",
          "2004-10-05T20:00:00",
          "2004-10-05T21:00:00",
          "2004-10-05T22:00:00",
          "2004-10-05T23:00:00",
          "2004-10-06T00:00:00",
          "2004-10-06T01:00:00",
          "2004-10-06T02:00:00",
          "2004-10-06T03:00:00",
          "2004-10-06T04:00:00",
          "2004-10-06T05:00:00",
          "2004-10-06T06:00:00",
          "2004-10-06T07:00:00",
          "2004-10-06T08:00:00",
          "2004-10-06T09:00:00",
          "2004-10-06T10:00:00",
          "2004-10-06T11:00:00",
          "2004-10-06T12:00:00",
          "2004-10-06T13:00:00",
          "2004-10-06T14:00:00",
          "2004-10-06T15:00:00",
          "2004-10-06T16:00:00",
          "2004-10-06T17:00:00",
          "2004-10-06T18:00:00",
          "2004-10-06T19:00:00",
          "2004-10-06T20:00:00",
          "2004-10-06T21:00:00",
          "2004-10-06T22:00:00",
          "2004-10-06T23:00:00",
          "2004-10-07T00:00:00",
          "2004-10-07T01:00:00",
          "2004-10-07T02:00:00",
          "2004-10-07T03:00:00",
          "2004-10-07T04:00:00",
          "2004-10-07T05:00:00",
          "2004-10-07T06:00:00",
          "2004-10-07T07:00:00",
          "2004-10-07T08:00:00",
          "2004-10-07T09:00:00",
          "2004-10-07T10:00:00",
          "2004-10-07T11:00:00",
          "2004-10-07T12:00:00",
          "2004-10-07T13:00:00",
          "2004-10-07T14:00:00",
          "2004-10-07T15:00:00",
          "2004-10-07T16:00:00",
          "2004-10-07T17:00:00",
          "2004-10-07T18:00:00",
          "2004-10-07T19:00:00",
          "2004-10-07T20:00:00",
          "2004-10-07T21:00:00",
          "2004-10-07T22:00:00",
          "2004-10-07T23:00:00",
          "2004-10-08T00:00:00",
          "2004-10-08T01:00:00",
          "2004-10-08T02:00:00",
          "2004-10-08T03:00:00",
          "2004-10-08T04:00:00",
          "2004-10-08T05:00:00",
          "2004-10-08T06:00:00",
          "2004-10-08T07:00:00",
          "2004-10-08T08:00:00",
          "2004-10-08T09:00:00",
          "2004-10-08T10:00:00",
          "2004-10-08T11:00:00",
          "2004-10-08T12:00:00",
          "2004-10-08T13:00:00",
          "2004-10-08T14:00:00",
          "2004-10-08T15:00:00",
          "2004-10-08T16:00:00",
          "2004-10-08T17:00:00",
          "2004-10-08T18:00:00",
          "2004-10-08T19:00:00",
          "2004-10-08T20:00:00",
          "2004-10-08T21:00:00",
          "2004-10-08T22:00:00",
          "2004-10-08T23:00:00",
          "2004-10-09T00:00:00",
          "2004-10-09T01:00:00",
          "2004-10-09T02:00:00",
          "2004-10-09T03:00:00",
          "2004-10-09T04:00:00",
          "2004-10-09T05:00:00",
          "2004-10-09T06:00:00",
          "2004-10-09T07:00:00",
          "2004-10-09T08:00:00",
          "2004-10-09T09:00:00",
          "2004-10-09T10:00:00",
          "2004-10-09T11:00:00",
          "2004-10-09T12:00:00",
          "2004-10-09T13:00:00",
          "2004-10-09T14:00:00",
          "2004-10-09T15:00:00",
          "2004-10-09T16:00:00",
          "2004-10-09T17:00:00",
          "2004-10-09T18:00:00",
          "2004-10-09T19:00:00",
          "2004-10-09T20:00:00",
          "2004-10-09T21:00:00",
          "2004-10-09T22:00:00",
          "2004-10-09T23:00:00",
          "2004-10-10T00:00:00",
          "2004-10-10T01:00:00",
          "2004-10-10T02:00:00",
          "2004-10-10T03:00:00",
          "2004-10-10T04:00:00",
          "2004-10-10T05:00:00",
          "2004-10-10T06:00:00",
          "2004-10-10T07:00:00",
          "2004-10-10T08:00:00",
          "2004-10-10T09:00:00",
          "2004-10-10T10:00:00",
          "2004-10-10T11:00:00",
          "2004-10-10T12:00:00",
          "2004-10-10T13:00:00",
          "2004-10-10T14:00:00",
          "2004-10-10T15:00:00",
          "2004-10-10T16:00:00",
          "2004-10-10T17:00:00",
          "2004-10-10T18:00:00",
          "2004-10-10T19:00:00",
          "2004-10-10T20:00:00",
          "2004-10-10T21:00:00",
          "2004-10-10T22:00:00",
          "2004-10-10T23:00:00",
          "2004-10-11T00:00:00",
          "2004-10-11T01:00:00",
          "2004-10-11T02:00:00",
          "2004-10-11T03:00:00",
          "2004-10-11T04:00:00",
          "2004-10-11T05:00:00",
          "2004-10-11T06:00:00",
          "2004-10-11T07:00:00",
          "2004-10-11T08:00:00",
          "2004-10-11T09:00:00",
          "2004-10-11T10:00:00",
          "2004-10-11T11:00:00",
          "2004-10-11T12:00:00",
          "2004-10-11T13:00:00",
          "2004-10-11T14:00:00",
          "2004-10-11T15:00:00",
          "2004-10-11T16:00:00",
          "2004-10-11T17:00:00",
          "2004-10-11T18:00:00",
          "2004-10-11T19:00:00",
          "2004-10-11T20:00:00",
          "2004-10-11T21:00:00",
          "2004-10-11T22:00:00",
          "2004-10-11T23:00:00",
          "2004-10-12T00:00:00",
          "2004-10-12T01:00:00",
          "2004-10-12T02:00:00",
          "2004-10-12T03:00:00",
          "2004-10-12T04:00:00",
          "2004-10-12T05:00:00",
          "2004-10-12T06:00:00",
          "2004-10-12T07:00:00",
          "2004-10-12T08:00:00",
          "2004-10-12T09:00:00",
          "2004-10-12T10:00:00",
          "2004-10-12T11:00:00",
          "2004-10-12T12:00:00",
          "2004-10-12T13:00:00",
          "2004-10-12T14:00:00",
          "2004-10-12T15:00:00",
          "2004-10-12T16:00:00",
          "2004-10-12T17:00:00",
          "2004-10-12T18:00:00",
          "2004-10-12T19:00:00",
          "2004-10-12T20:00:00",
          "2004-10-12T21:00:00",
          "2004-10-12T22:00:00",
          "2004-10-12T23:00:00",
          "2004-10-13T00:00:00",
          "2004-10-13T01:00:00",
          "2004-10-13T02:00:00",
          "2004-10-13T03:00:00",
          "2004-10-13T04:00:00",
          "2004-10-13T05:00:00",
          "2004-10-13T06:00:00",
          "2004-10-13T07:00:00",
          "2004-10-13T08:00:00",
          "2004-10-13T09:00:00",
          "2004-10-13T10:00:00",
          "2004-10-13T11:00:00",
          "2004-10-13T12:00:00",
          "2004-10-13T13:00:00",
          "2004-10-13T14:00:00",
          "2004-10-13T15:00:00",
          "2004-10-13T16:00:00",
          "2004-10-13T17:00:00",
          "2004-10-13T18:00:00",
          "2004-10-13T19:00:00",
          "2004-10-13T20:00:00",
          "2004-10-13T21:00:00",
          "2004-10-13T22:00:00",
          "2004-10-13T23:00:00",
          "2004-10-14T00:00:00",
          "2004-10-14T01:00:00",
          "2004-10-14T02:00:00",
          "2004-10-14T03:00:00",
          "2004-10-14T04:00:00",
          "2004-10-14T05:00:00",
          "2004-10-14T06:00:00",
          "2004-10-14T07:00:00",
          "2004-10-14T08:00:00",
          "2004-10-14T09:00:00",
          "2004-10-14T10:00:00",
          "2004-10-14T11:00:00",
          "2004-10-14T12:00:00",
          "2004-10-14T13:00:00",
          "2004-10-14T14:00:00",
          "2004-10-14T15:00:00",
          "2004-10-14T16:00:00",
          "2004-10-14T17:00:00",
          "2004-10-14T18:00:00",
          "2004-10-14T19:00:00",
          "2004-10-14T20:00:00",
          "2004-10-14T21:00:00",
          "2004-10-14T22:00:00",
          "2004-10-14T23:00:00",
          "2004-10-15T00:00:00",
          "2004-10-15T01:00:00",
          "2004-10-15T02:00:00",
          "2004-10-15T03:00:00",
          "2004-10-15T04:00:00",
          "2004-10-15T05:00:00",
          "2004-10-15T06:00:00",
          "2004-10-15T07:00:00",
          "2004-10-15T08:00:00",
          "2004-10-15T09:00:00",
          "2004-10-15T10:00:00",
          "2004-10-15T11:00:00",
          "2004-10-15T12:00:00",
          "2004-10-15T13:00:00",
          "2004-10-15T14:00:00",
          "2004-10-15T15:00:00",
          "2004-10-15T16:00:00",
          "2004-10-15T17:00:00",
          "2004-10-15T18:00:00",
          "2004-10-15T19:00:00",
          "2004-10-15T20:00:00",
          "2004-10-15T21:00:00",
          "2004-10-15T22:00:00",
          "2004-10-15T23:00:00",
          "2004-10-16T00:00:00",
          "2004-10-16T01:00:00",
          "2004-10-16T02:00:00",
          "2004-10-16T03:00:00",
          "2004-10-16T04:00:00",
          "2004-10-16T05:00:00",
          "2004-10-16T06:00:00",
          "2004-10-16T07:00:00",
          "2004-10-16T08:00:00",
          "2004-10-16T09:00:00",
          "2004-10-16T10:00:00",
          "2004-10-16T11:00:00",
          "2004-10-16T12:00:00",
          "2004-10-16T13:00:00",
          "2004-10-16T14:00:00",
          "2004-10-16T15:00:00",
          "2004-10-16T16:00:00",
          "2004-10-16T17:00:00",
          "2004-10-16T18:00:00",
          "2004-10-16T19:00:00",
          "2004-10-16T20:00:00",
          "2004-10-16T21:00:00",
          "2004-10-16T22:00:00",
          "2004-10-16T23:00:00",
          "2004-10-17T00:00:00",
          "2004-10-17T01:00:00",
          "2004-10-17T02:00:00",
          "2004-10-17T03:00:00",
          "2004-10-17T04:00:00",
          "2004-10-17T05:00:00",
          "2004-10-17T06:00:00",
          "2004-10-17T07:00:00",
          "2004-10-17T08:00:00",
          "2004-10-17T09:00:00",
          "2004-10-17T10:00:00",
          "2004-10-17T11:00:00",
          "2004-10-17T12:00:00",
          "2004-10-17T13:00:00",
          "2004-10-17T14:00:00",
          "2004-10-17T15:00:00",
          "2004-10-17T16:00:00",
          "2004-10-17T17:00:00",
          "2004-10-17T18:00:00",
          "2004-10-17T19:00:00",
          "2004-10-17T20:00:00",
          "2004-10-17T21:00:00",
          "2004-10-17T22:00:00",
          "2004-10-17T23:00:00",
          "2004-10-18T00:00:00",
          "2004-10-18T01:00:00",
          "2004-10-18T02:00:00",
          "2004-10-18T03:00:00",
          "2004-10-18T04:00:00",
          "2004-10-18T05:00:00",
          "2004-10-18T06:00:00",
          "2004-10-18T07:00:00",
          "2004-10-18T08:00:00",
          "2004-10-18T09:00:00",
          "2004-10-18T10:00:00",
          "2004-10-18T11:00:00",
          "2004-10-18T12:00:00",
          "2004-10-18T13:00:00",
          "2004-10-18T14:00:00",
          "2004-10-18T15:00:00",
          "2004-10-18T16:00:00",
          "2004-10-18T17:00:00",
          "2004-10-18T18:00:00",
          "2004-10-18T19:00:00",
          "2004-10-18T20:00:00",
          "2004-10-18T21:00:00",
          "2004-10-18T22:00:00",
          "2004-10-18T23:00:00",
          "2004-10-19T00:00:00",
          "2004-10-19T01:00:00",
          "2004-10-19T02:00:00",
          "2004-10-19T03:00:00",
          "2004-10-19T04:00:00",
          "2004-10-19T05:00:00",
          "2004-10-19T06:00:00",
          "2004-10-19T07:00:00",
          "2004-10-19T08:00:00",
          "2004-10-19T09:00:00",
          "2004-10-19T10:00:00",
          "2004-10-19T11:00:00",
          "2004-10-19T12:00:00",
          "2004-10-19T13:00:00",
          "2004-10-19T14:00:00",
          "2004-10-19T15:00:00",
          "2004-10-19T16:00:00",
          "2004-10-19T17:00:00",
          "2004-10-19T18:00:00",
          "2004-10-19T19:00:00",
          "2004-10-19T20:00:00",
          "2004-10-19T21:00:00",
          "2004-10-19T22:00:00",
          "2004-10-19T23:00:00",
          "2004-10-20T00:00:00",
          "2004-10-20T01:00:00",
          "2004-10-20T02:00:00",
          "2004-10-20T03:00:00",
          "2004-10-20T04:00:00",
          "2004-10-20T05:00:00",
          "2004-10-20T06:00:00",
          "2004-10-20T07:00:00",
          "2004-10-20T08:00:00",
          "2004-10-20T09:00:00",
          "2004-10-20T10:00:00",
          "2004-10-20T11:00:00",
          "2004-10-20T12:00:00",
          "2004-10-20T13:00:00",
          "2004-10-20T14:00:00",
          "2004-10-20T15:00:00",
          "2004-10-20T16:00:00",
          "2004-10-20T17:00:00",
          "2004-10-20T18:00:00",
          "2004-10-20T19:00:00",
          "2004-10-20T20:00:00",
          "2004-10-20T21:00:00",
          "2004-10-20T22:00:00",
          "2004-10-20T23:00:00",
          "2004-10-21T00:00:00",
          "2004-10-21T01:00:00",
          "2004-10-21T02:00:00",
          "2004-10-21T03:00:00",
          "2004-10-21T04:00:00",
          "2004-10-21T05:00:00",
          "2004-10-21T06:00:00",
          "2004-10-21T07:00:00",
          "2004-10-21T08:00:00",
          "2004-10-21T09:00:00",
          "2004-10-21T10:00:00",
          "2004-10-21T11:00:00",
          "2004-10-21T12:00:00",
          "2004-10-21T13:00:00",
          "2004-10-21T14:00:00",
          "2004-10-21T15:00:00",
          "2004-10-21T16:00:00",
          "2004-10-21T17:00:00",
          "2004-10-21T18:00:00",
          "2004-10-21T19:00:00",
          "2004-10-21T20:00:00",
          "2004-10-21T21:00:00",
          "2004-10-21T22:00:00",
          "2004-10-21T23:00:00",
          "2004-10-22T00:00:00",
          "2004-10-22T01:00:00",
          "2004-10-22T02:00:00",
          "2004-10-22T03:00:00",
          "2004-10-22T04:00:00",
          "2004-10-22T05:00:00",
          "2004-10-22T06:00:00",
          "2004-10-22T07:00:00",
          "2004-10-22T08:00:00",
          "2004-10-22T09:00:00",
          "2004-10-22T10:00:00",
          "2004-10-22T11:00:00",
          "2004-10-22T12:00:00",
          "2004-10-22T13:00:00",
          "2004-10-22T14:00:00",
          "2004-10-22T15:00:00",
          "2004-10-22T16:00:00",
          "2004-10-22T17:00:00",
          "2004-10-22T18:00:00",
          "2004-10-22T19:00:00",
          "2004-10-22T20:00:00",
          "2004-10-22T21:00:00",
          "2004-10-22T22:00:00",
          "2004-10-22T23:00:00",
          "2004-10-23T00:00:00",
          "2004-10-23T01:00:00",
          "2004-10-23T02:00:00",
          "2004-10-23T03:00:00",
          "2004-10-23T04:00:00",
          "2004-10-23T05:00:00",
          "2004-10-23T06:00:00",
          "2004-10-23T07:00:00",
          "2004-10-23T08:00:00",
          "2004-10-23T09:00:00",
          "2004-10-23T10:00:00",
          "2004-10-23T11:00:00",
          "2004-10-23T12:00:00",
          "2004-10-23T13:00:00",
          "2004-10-23T14:00:00",
          "2004-10-23T15:00:00",
          "2004-10-23T16:00:00",
          "2004-10-23T17:00:00",
          "2004-10-23T18:00:00",
          "2004-10-23T19:00:00",
          "2004-10-23T20:00:00",
          "2004-10-23T21:00:00",
          "2004-10-23T22:00:00",
          "2004-10-23T23:00:00",
          "2004-10-24T00:00:00",
          "2004-10-24T01:00:00",
          "2004-10-24T02:00:00",
          "2004-10-24T03:00:00",
          "2004-10-24T04:00:00",
          "2004-10-24T05:00:00",
          "2004-10-24T06:00:00",
          "2004-10-24T07:00:00",
          "2004-10-24T08:00:00",
          "2004-10-24T09:00:00",
          "2004-10-24T10:00:00",
          "2004-10-24T11:00:00",
          "2004-10-24T12:00:00",
          "2004-10-24T13:00:00",
          "2004-10-24T14:00:00",
          "2004-10-24T15:00:00",
          "2004-10-24T16:00:00",
          "2004-10-24T17:00:00",
          "2004-10-24T18:00:00",
          "2004-10-24T19:00:00",
          "2004-10-24T20:00:00",
          "2004-10-24T21:00:00",
          "2004-10-24T22:00:00",
          "2004-10-24T23:00:00",
          "2004-10-25T00:00:00"
         ],
         "xaxis": "x",
         "y": [
          0,
          0,
          0,
          0,
          0,
          0,
          0,
          0,
          0,
          0,
          0,
          0,
          0,
          0,
          0,
          0,
          0,
          0,
          0,
          0,
          0,
          0,
          0,
          0,
          0,
          0,
          0,
          0,
          0,
          0,
          0,
          0,
          0,
          0,
          0,
          0,
          0,
          0,
          0,
          0,
          0,
          0,
          0,
          0,
          0,
          0,
          0,
          0,
          0,
          0,
          0,
          0,
          0,
          0,
          0,
          0,
          0,
          0,
          0,
          0,
          0,
          0,
          0,
          0,
          0,
          0,
          0,
          0,
          0,
          0,
          0,
          0,
          0,
          0,
          0,
          0,
          0,
          0,
          0,
          0,
          0,
          0,
          0,
          0,
          0,
          0,
          0,
          0,
          0,
          0,
          0,
          0.007594558876007795,
          0.008137162774801254,
          0.008576781488955021,
          0.009228948503732681,
          0.010496871545910835,
          0.012134837917983532,
          0.016897812485694885,
          0.02631903439760208,
          0.037527527660131454,
          0.04996300861239433,
          0.06369024515151978,
          0.09498346596956253,
          0.1232040524482727,
          0.1310299187898636,
          0.13891588151454926,
          0.14625361561775208,
          0.15448834002017975,
          0.1411178857088089,
          0.12833887338638306,
          0.13978047668933868,
          0.1519087553024292,
          0.16454535722732544,
          0.17796358466148376,
          0.1881415843963623,
          0.18538573384284973,
          0.17332613468170166,
          0.16163061559200287,
          0.1502910554409027,
          0.1388891488313675,
          0.13051562011241913,
          0.13213397562503815,
          0.14088159799575806,
          0.14992940425872803,
          0.15927386283874512,
          0.16912563145160675,
          0.18051260709762573,
          0.19554802775382996,
          0.2137403041124344,
          0.23359279334545135,
          0.2573058605194092,
          0.28821423649787903,
          0,
          0,
          0,
          0,
          0,
          0,
          0,
          0,
          0,
          0,
          0,
          0,
          0,
          0,
          0,
          0,
          0,
          0,
          0,
          0,
          0,
          0,
          0,
          0,
          0,
          0,
          0,
          0,
          0,
          0,
          0,
          0,
          0,
          0,
          0,
          0,
          0,
          0,
          0,
          0,
          0,
          0,
          0,
          0,
          0,
          0,
          0,
          0,
          0,
          0,
          0,
          0,
          0,
          0,
          0,
          0,
          0,
          0,
          0,
          0,
          0,
          0,
          0,
          0,
          0,
          0,
          0,
          0,
          0,
          0,
          0,
          0,
          0,
          0,
          0,
          0,
          0,
          0,
          0,
          0,
          0,
          0,
          0,
          0,
          0,
          0,
          0,
          0,
          0,
          0,
          0,
          0,
          0,
          0,
          0,
          0,
          0,
          0,
          0,
          0,
          0,
          0,
          0,
          0,
          0,
          0,
          0,
          0,
          0,
          0,
          0,
          0,
          0,
          0,
          0,
          0,
          0,
          0,
          0,
          0,
          0,
          0,
          0,
          0,
          0,
          0,
          0,
          0,
          0,
          0,
          0,
          0,
          0,
          0,
          0,
          0,
          0,
          0,
          0,
          0,
          0,
          0,
          0,
          0,
          0,
          0,
          0,
          0,
          0,
          0,
          0,
          0,
          0,
          0,
          0,
          0,
          0,
          0,
          0,
          0,
          0,
          0,
          0,
          0,
          0,
          0,
          0,
          0,
          0,
          0,
          0,
          0,
          0,
          0,
          0,
          0,
          0,
          0,
          0,
          0,
          0,
          0,
          0,
          0,
          0,
          0,
          0,
          0,
          0,
          0,
          0,
          0,
          0,
          0,
          0,
          0,
          0,
          0,
          0,
          0,
          0,
          0,
          0,
          0,
          0,
          0,
          0,
          0,
          0,
          0,
          0,
          0,
          0,
          0,
          0,
          0,
          0,
          0,
          0,
          0,
          0,
          0,
          0,
          0,
          0,
          0,
          0,
          0,
          0,
          0,
          0,
          0,
          0,
          0,
          0,
          0,
          0,
          0,
          0,
          0,
          0,
          0,
          0,
          0,
          0,
          0,
          0,
          0,
          0,
          0,
          0,
          0,
          0,
          0,
          0,
          0,
          0,
          0,
          0,
          0,
          0,
          0,
          0,
          0,
          0,
          0,
          0,
          0,
          0,
          0,
          0,
          0,
          0,
          0,
          0,
          0,
          0,
          0,
          0,
          0,
          0,
          0,
          0,
          0,
          0,
          0,
          0,
          0,
          0,
          0,
          0,
          0,
          0,
          0,
          0,
          0,
          0,
          0,
          0,
          0,
          0,
          0,
          0,
          0,
          0,
          0,
          0,
          0,
          0,
          0,
          0,
          0,
          0,
          0,
          0,
          0,
          0,
          0,
          0,
          0,
          0,
          0,
          0,
          0,
          0,
          0,
          0,
          0,
          0,
          0,
          0,
          0,
          0,
          0,
          0,
          0,
          0,
          0,
          0,
          0,
          0,
          0,
          0,
          0,
          0,
          0,
          0,
          0
         ],
         "yaxis": "y"
        }
       ],
       "layout": {
        "annotations": [
         {
          "font": {
           "size": 16
          },
          "showarrow": false,
          "text": "AMITE",
          "x": 0.5,
          "xanchor": "center",
          "xref": "paper",
          "y": 1,
          "yanchor": "bottom",
          "yref": "paper"
         },
         {
          "font": {
           "family": "sans-serif",
           "size": 22
          },
          "showarrow": false,
          "text": "AMITE",
          "x": 0.9,
          "xref": "x domain",
          "y": 0.9,
          "yref": "y domain"
         }
        ],
        "height": 800,
        "hoverlabel": {
         "font": {
          "family": "sans-serif",
          "size": 22
         },
         "namelength": -1
        },
        "template": {
         "data": {
          "bar": [
           {
            "error_x": {
             "color": "#f2f5fa"
            },
            "error_y": {
             "color": "#f2f5fa"
            },
            "marker": {
             "line": {
              "color": "rgb(17,17,17)",
              "width": 0.5
             },
             "pattern": {
              "fillmode": "overlay",
              "size": 10,
              "solidity": 0.2
             }
            },
            "type": "bar"
           }
          ],
          "barpolar": [
           {
            "marker": {
             "line": {
              "color": "rgb(17,17,17)",
              "width": 0.5
             },
             "pattern": {
              "fillmode": "overlay",
              "size": 10,
              "solidity": 0.2
             }
            },
            "type": "barpolar"
           }
          ],
          "carpet": [
           {
            "aaxis": {
             "endlinecolor": "#A2B1C6",
             "gridcolor": "#506784",
             "linecolor": "#506784",
             "minorgridcolor": "#506784",
             "startlinecolor": "#A2B1C6"
            },
            "baxis": {
             "endlinecolor": "#A2B1C6",
             "gridcolor": "#506784",
             "linecolor": "#506784",
             "minorgridcolor": "#506784",
             "startlinecolor": "#A2B1C6"
            },
            "type": "carpet"
           }
          ],
          "choropleth": [
           {
            "colorbar": {
             "outlinewidth": 0,
             "ticks": ""
            },
            "type": "choropleth"
           }
          ],
          "contour": [
           {
            "colorbar": {
             "outlinewidth": 0,
             "ticks": ""
            },
            "colorscale": [
             [
              0,
              "#0d0887"
             ],
             [
              0.1111111111111111,
              "#46039f"
             ],
             [
              0.2222222222222222,
              "#7201a8"
             ],
             [
              0.3333333333333333,
              "#9c179e"
             ],
             [
              0.4444444444444444,
              "#bd3786"
             ],
             [
              0.5555555555555556,
              "#d8576b"
             ],
             [
              0.6666666666666666,
              "#ed7953"
             ],
             [
              0.7777777777777778,
              "#fb9f3a"
             ],
             [
              0.8888888888888888,
              "#fdca26"
             ],
             [
              1,
              "#f0f921"
             ]
            ],
            "type": "contour"
           }
          ],
          "contourcarpet": [
           {
            "colorbar": {
             "outlinewidth": 0,
             "ticks": ""
            },
            "type": "contourcarpet"
           }
          ],
          "heatmap": [
           {
            "colorbar": {
             "outlinewidth": 0,
             "ticks": ""
            },
            "colorscale": [
             [
              0,
              "#0d0887"
             ],
             [
              0.1111111111111111,
              "#46039f"
             ],
             [
              0.2222222222222222,
              "#7201a8"
             ],
             [
              0.3333333333333333,
              "#9c179e"
             ],
             [
              0.4444444444444444,
              "#bd3786"
             ],
             [
              0.5555555555555556,
              "#d8576b"
             ],
             [
              0.6666666666666666,
              "#ed7953"
             ],
             [
              0.7777777777777778,
              "#fb9f3a"
             ],
             [
              0.8888888888888888,
              "#fdca26"
             ],
             [
              1,
              "#f0f921"
             ]
            ],
            "type": "heatmap"
           }
          ],
          "heatmapgl": [
           {
            "colorbar": {
             "outlinewidth": 0,
             "ticks": ""
            },
            "colorscale": [
             [
              0,
              "#0d0887"
             ],
             [
              0.1111111111111111,
              "#46039f"
             ],
             [
              0.2222222222222222,
              "#7201a8"
             ],
             [
              0.3333333333333333,
              "#9c179e"
             ],
             [
              0.4444444444444444,
              "#bd3786"
             ],
             [
              0.5555555555555556,
              "#d8576b"
             ],
             [
              0.6666666666666666,
              "#ed7953"
             ],
             [
              0.7777777777777778,
              "#fb9f3a"
             ],
             [
              0.8888888888888888,
              "#fdca26"
             ],
             [
              1,
              "#f0f921"
             ]
            ],
            "type": "heatmapgl"
           }
          ],
          "histogram": [
           {
            "marker": {
             "pattern": {
              "fillmode": "overlay",
              "size": 10,
              "solidity": 0.2
             }
            },
            "type": "histogram"
           }
          ],
          "histogram2d": [
           {
            "colorbar": {
             "outlinewidth": 0,
             "ticks": ""
            },
            "colorscale": [
             [
              0,
              "#0d0887"
             ],
             [
              0.1111111111111111,
              "#46039f"
             ],
             [
              0.2222222222222222,
              "#7201a8"
             ],
             [
              0.3333333333333333,
              "#9c179e"
             ],
             [
              0.4444444444444444,
              "#bd3786"
             ],
             [
              0.5555555555555556,
              "#d8576b"
             ],
             [
              0.6666666666666666,
              "#ed7953"
             ],
             [
              0.7777777777777778,
              "#fb9f3a"
             ],
             [
              0.8888888888888888,
              "#fdca26"
             ],
             [
              1,
              "#f0f921"
             ]
            ],
            "type": "histogram2d"
           }
          ],
          "histogram2dcontour": [
           {
            "colorbar": {
             "outlinewidth": 0,
             "ticks": ""
            },
            "colorscale": [
             [
              0,
              "#0d0887"
             ],
             [
              0.1111111111111111,
              "#46039f"
             ],
             [
              0.2222222222222222,
              "#7201a8"
             ],
             [
              0.3333333333333333,
              "#9c179e"
             ],
             [
              0.4444444444444444,
              "#bd3786"
             ],
             [
              0.5555555555555556,
              "#d8576b"
             ],
             [
              0.6666666666666666,
              "#ed7953"
             ],
             [
              0.7777777777777778,
              "#fb9f3a"
             ],
             [
              0.8888888888888888,
              "#fdca26"
             ],
             [
              1,
              "#f0f921"
             ]
            ],
            "type": "histogram2dcontour"
           }
          ],
          "mesh3d": [
           {
            "colorbar": {
             "outlinewidth": 0,
             "ticks": ""
            },
            "type": "mesh3d"
           }
          ],
          "parcoords": [
           {
            "line": {
             "colorbar": {
              "outlinewidth": 0,
              "ticks": ""
             }
            },
            "type": "parcoords"
           }
          ],
          "pie": [
           {
            "automargin": true,
            "type": "pie"
           }
          ],
          "scatter": [
           {
            "marker": {
             "line": {
              "color": "#283442"
             }
            },
            "type": "scatter"
           }
          ],
          "scatter3d": [
           {
            "line": {
             "colorbar": {
              "outlinewidth": 0,
              "ticks": ""
             }
            },
            "marker": {
             "colorbar": {
              "outlinewidth": 0,
              "ticks": ""
             }
            },
            "type": "scatter3d"
           }
          ],
          "scattercarpet": [
           {
            "marker": {
             "colorbar": {
              "outlinewidth": 0,
              "ticks": ""
             }
            },
            "type": "scattercarpet"
           }
          ],
          "scattergeo": [
           {
            "marker": {
             "colorbar": {
              "outlinewidth": 0,
              "ticks": ""
             }
            },
            "type": "scattergeo"
           }
          ],
          "scattergl": [
           {
            "marker": {
             "line": {
              "color": "#283442"
             }
            },
            "type": "scattergl"
           }
          ],
          "scattermapbox": [
           {
            "marker": {
             "colorbar": {
              "outlinewidth": 0,
              "ticks": ""
             }
            },
            "type": "scattermapbox"
           }
          ],
          "scatterpolar": [
           {
            "marker": {
             "colorbar": {
              "outlinewidth": 0,
              "ticks": ""
             }
            },
            "type": "scatterpolar"
           }
          ],
          "scatterpolargl": [
           {
            "marker": {
             "colorbar": {
              "outlinewidth": 0,
              "ticks": ""
             }
            },
            "type": "scatterpolargl"
           }
          ],
          "scatterternary": [
           {
            "marker": {
             "colorbar": {
              "outlinewidth": 0,
              "ticks": ""
             }
            },
            "type": "scatterternary"
           }
          ],
          "surface": [
           {
            "colorbar": {
             "outlinewidth": 0,
             "ticks": ""
            },
            "colorscale": [
             [
              0,
              "#0d0887"
             ],
             [
              0.1111111111111111,
              "#46039f"
             ],
             [
              0.2222222222222222,
              "#7201a8"
             ],
             [
              0.3333333333333333,
              "#9c179e"
             ],
             [
              0.4444444444444444,
              "#bd3786"
             ],
             [
              0.5555555555555556,
              "#d8576b"
             ],
             [
              0.6666666666666666,
              "#ed7953"
             ],
             [
              0.7777777777777778,
              "#fb9f3a"
             ],
             [
              0.8888888888888888,
              "#fdca26"
             ],
             [
              1,
              "#f0f921"
             ]
            ],
            "type": "surface"
           }
          ],
          "table": [
           {
            "cells": {
             "fill": {
              "color": "#506784"
             },
             "line": {
              "color": "rgb(17,17,17)"
             }
            },
            "header": {
             "fill": {
              "color": "#2a3f5f"
             },
             "line": {
              "color": "rgb(17,17,17)"
             }
            },
            "type": "table"
           }
          ]
         },
         "layout": {
          "annotationdefaults": {
           "arrowcolor": "#f2f5fa",
           "arrowhead": 0,
           "arrowwidth": 1
          },
          "autotypenumbers": "strict",
          "coloraxis": {
           "colorbar": {
            "outlinewidth": 0,
            "ticks": ""
           }
          },
          "colorscale": {
           "diverging": [
            [
             0,
             "#8e0152"
            ],
            [
             0.1,
             "#c51b7d"
            ],
            [
             0.2,
             "#de77ae"
            ],
            [
             0.3,
             "#f1b6da"
            ],
            [
             0.4,
             "#fde0ef"
            ],
            [
             0.5,
             "#f7f7f7"
            ],
            [
             0.6,
             "#e6f5d0"
            ],
            [
             0.7,
             "#b8e186"
            ],
            [
             0.8,
             "#7fbc41"
            ],
            [
             0.9,
             "#4d9221"
            ],
            [
             1,
             "#276419"
            ]
           ],
           "sequential": [
            [
             0,
             "#0d0887"
            ],
            [
             0.1111111111111111,
             "#46039f"
            ],
            [
             0.2222222222222222,
             "#7201a8"
            ],
            [
             0.3333333333333333,
             "#9c179e"
            ],
            [
             0.4444444444444444,
             "#bd3786"
            ],
            [
             0.5555555555555556,
             "#d8576b"
            ],
            [
             0.6666666666666666,
             "#ed7953"
            ],
            [
             0.7777777777777778,
             "#fb9f3a"
            ],
            [
             0.8888888888888888,
             "#fdca26"
            ],
            [
             1,
             "#f0f921"
            ]
           ],
           "sequentialminus": [
            [
             0,
             "#0d0887"
            ],
            [
             0.1111111111111111,
             "#46039f"
            ],
            [
             0.2222222222222222,
             "#7201a8"
            ],
            [
             0.3333333333333333,
             "#9c179e"
            ],
            [
             0.4444444444444444,
             "#bd3786"
            ],
            [
             0.5555555555555556,
             "#d8576b"
            ],
            [
             0.6666666666666666,
             "#ed7953"
            ],
            [
             0.7777777777777778,
             "#fb9f3a"
            ],
            [
             0.8888888888888888,
             "#fdca26"
            ],
            [
             1,
             "#f0f921"
            ]
           ]
          },
          "colorway": [
           "#636efa",
           "#EF553B",
           "#00cc96",
           "#ab63fa",
           "#FFA15A",
           "#19d3f3",
           "#FF6692",
           "#B6E880",
           "#FF97FF",
           "#FECB52"
          ],
          "font": {
           "color": "#f2f5fa"
          },
          "geo": {
           "bgcolor": "rgb(17,17,17)",
           "lakecolor": "rgb(17,17,17)",
           "landcolor": "rgb(17,17,17)",
           "showlakes": true,
           "showland": true,
           "subunitcolor": "#506784"
          },
          "hoverlabel": {
           "align": "left"
          },
          "hovermode": "closest",
          "mapbox": {
           "style": "dark"
          },
          "paper_bgcolor": "rgb(17,17,17)",
          "plot_bgcolor": "rgb(17,17,17)",
          "polar": {
           "angularaxis": {
            "gridcolor": "#506784",
            "linecolor": "#506784",
            "ticks": ""
           },
           "bgcolor": "rgb(17,17,17)",
           "radialaxis": {
            "gridcolor": "#506784",
            "linecolor": "#506784",
            "ticks": ""
           }
          },
          "scene": {
           "xaxis": {
            "backgroundcolor": "rgb(17,17,17)",
            "gridcolor": "#506784",
            "gridwidth": 2,
            "linecolor": "#506784",
            "showbackground": true,
            "ticks": "",
            "zerolinecolor": "#C8D4E3"
           },
           "yaxis": {
            "backgroundcolor": "rgb(17,17,17)",
            "gridcolor": "#506784",
            "gridwidth": 2,
            "linecolor": "#506784",
            "showbackground": true,
            "ticks": "",
            "zerolinecolor": "#C8D4E3"
           },
           "zaxis": {
            "backgroundcolor": "rgb(17,17,17)",
            "gridcolor": "#506784",
            "gridwidth": 2,
            "linecolor": "#506784",
            "showbackground": true,
            "ticks": "",
            "zerolinecolor": "#C8D4E3"
           }
          },
          "shapedefaults": {
           "line": {
            "color": "#f2f5fa"
           }
          },
          "sliderdefaults": {
           "bgcolor": "#C8D4E3",
           "bordercolor": "rgb(17,17,17)",
           "borderwidth": 1,
           "tickwidth": 0
          },
          "ternary": {
           "aaxis": {
            "gridcolor": "#506784",
            "linecolor": "#506784",
            "ticks": ""
           },
           "baxis": {
            "gridcolor": "#506784",
            "linecolor": "#506784",
            "ticks": ""
           },
           "bgcolor": "rgb(17,17,17)",
           "caxis": {
            "gridcolor": "#506784",
            "linecolor": "#506784",
            "ticks": ""
           }
          },
          "title": {
           "x": 0.05
          },
          "updatemenudefaults": {
           "bgcolor": "#506784",
           "borderwidth": 0
          },
          "xaxis": {
           "automargin": true,
           "gridcolor": "#283442",
           "linecolor": "#506784",
           "ticks": "",
           "title": {
            "standoff": 15
           },
           "zerolinecolor": "#283442",
           "zerolinewidth": 2
          },
          "yaxis": {
           "automargin": true,
           "gridcolor": "#283442",
           "linecolor": "#506784",
           "ticks": "",
           "title": {
            "standoff": 15
           },
           "zerolinecolor": "#283442",
           "zerolinewidth": 2
          }
         }
        },
        "title": {
         "text": "JPM Parametric Rainfall Simulations"
        },
        "width": 2540,
        "xaxis": {
         "anchor": "y",
         "domain": [
          0,
          1
         ]
        },
        "yaxis": {
         "anchor": "x",
         "domain": [
          0,
          1
         ]
        }
       }
      }
     },
     "metadata": {},
     "output_type": "display_data"
    }
   ],
   "source": [
    "n = len(DSSpaths_List)\n",
    "n_columns = 1\n",
    "# subPlotTitleList =  [ele for ele in subbasinList for i in range(n_columns)]\n",
    "subPlotTitleList  = subbasinList\n",
    "\n",
    "fig = make_subplots(  rows=n, \n",
    "                                    cols=n_columns, \n",
    "                                    # vertical_spacing=.1/(n-1),\n",
    "                                    vertical_spacing=.1/(1),\n",
    "                                    subplot_titles=subPlotTitleList\n",
    "                    )\n",
    "\n",
    "fig.append_trace(\n",
    "    go.Scatter(\n",
    "        x=df.Times, \n",
    "        y=df.Values,\n",
    "        name = subbasin,\n",
    "    ), \n",
    "    # row=i+1,\n",
    "    row = 1, \n",
    "    col=1\n",
    ")\n",
    "\n",
    "fig.add_annotation(\n",
    "    text=subbasin,\n",
    "    xref=\"x domain\", yref=\"y domain\",\n",
    "    x=0.9, y=0.9, showarrow=False,\n",
    "    # row=i+1,\n",
    "    row = 1, \n",
    "    col=1,\n",
    "    font=dict(family='sans-serif', size=22)\n",
    ")\n",
    "\n",
    "fig.update_layout(\n",
    "    height=n*800, \n",
    "    width=2540, \n",
    "    title_text=f\"JPM Parametric Rainfall Simulations\",\n",
    "    template= \"plotly_dark\",\n",
    "    hoverlabel=dict(\n",
    "        font=dict(\n",
    "            family='sans-serif', size=22\n",
    "        ),\n",
    "        namelength= -1\n",
    "    )\n",
    ")\n"
   ]
  },
  {
   "cell_type": "code",
   "execution_count": 16,
   "metadata": {},
   "outputs": [
    {
     "data": {
      "application/vnd.plotly.v1+json": {
       "config": {
        "plotlyServerURL": "https://plot.ly"
       },
       "data": [
        {
         "name": "AMITE",
         "type": "scatter",
         "x": [
          "2004-10-05T01:00:00",
          "2004-10-05T02:00:00",
          "2004-10-05T03:00:00",
          "2004-10-05T04:00:00",
          "2004-10-05T05:00:00",
          "2004-10-05T06:00:00",
          "2004-10-05T07:00:00",
          "2004-10-05T08:00:00",
          "2004-10-05T09:00:00",
          "2004-10-05T10:00:00",
          "2004-10-05T11:00:00",
          "2004-10-05T12:00:00",
          "2004-10-05T13:00:00",
          "2004-10-05T14:00:00",
          "2004-10-05T15:00:00",
          "2004-10-05T16:00:00",
          "2004-10-05T17:00:00",
          "2004-10-05T18:00:00",
          "2004-10-05T19:00:00",
          "2004-10-05T20:00:00",
          "2004-10-05T21:00:00",
          "2004-10-05T22:00:00",
          "2004-10-05T23:00:00",
          "2004-10-06T00:00:00",
          "2004-10-06T01:00:00",
          "2004-10-06T02:00:00",
          "2004-10-06T03:00:00",
          "2004-10-06T04:00:00",
          "2004-10-06T05:00:00",
          "2004-10-06T06:00:00",
          "2004-10-06T07:00:00",
          "2004-10-06T08:00:00",
          "2004-10-06T09:00:00",
          "2004-10-06T10:00:00",
          "2004-10-06T11:00:00",
          "2004-10-06T12:00:00",
          "2004-10-06T13:00:00",
          "2004-10-06T14:00:00",
          "2004-10-06T15:00:00",
          "2004-10-06T16:00:00",
          "2004-10-06T17:00:00",
          "2004-10-06T18:00:00",
          "2004-10-06T19:00:00",
          "2004-10-06T20:00:00",
          "2004-10-06T21:00:00",
          "2004-10-06T22:00:00",
          "2004-10-06T23:00:00",
          "2004-10-07T00:00:00",
          "2004-10-07T01:00:00",
          "2004-10-07T02:00:00",
          "2004-10-07T03:00:00",
          "2004-10-07T04:00:00",
          "2004-10-07T05:00:00",
          "2004-10-07T06:00:00",
          "2004-10-07T07:00:00",
          "2004-10-07T08:00:00",
          "2004-10-07T09:00:00",
          "2004-10-07T10:00:00",
          "2004-10-07T11:00:00",
          "2004-10-07T12:00:00",
          "2004-10-07T13:00:00",
          "2004-10-07T14:00:00",
          "2004-10-07T15:00:00",
          "2004-10-07T16:00:00",
          "2004-10-07T17:00:00",
          "2004-10-07T18:00:00",
          "2004-10-07T19:00:00",
          "2004-10-07T20:00:00",
          "2004-10-07T21:00:00",
          "2004-10-07T22:00:00",
          "2004-10-07T23:00:00",
          "2004-10-08T00:00:00",
          "2004-10-08T01:00:00",
          "2004-10-08T02:00:00",
          "2004-10-08T03:00:00",
          "2004-10-08T04:00:00",
          "2004-10-08T05:00:00",
          "2004-10-08T06:00:00",
          "2004-10-08T07:00:00",
          "2004-10-08T08:00:00",
          "2004-10-08T09:00:00",
          "2004-10-08T10:00:00",
          "2004-10-08T11:00:00",
          "2004-10-08T12:00:00",
          "2004-10-08T13:00:00",
          "2004-10-08T14:00:00",
          "2004-10-08T15:00:00",
          "2004-10-08T16:00:00",
          "2004-10-08T17:00:00",
          "2004-10-08T18:00:00",
          "2004-10-08T19:00:00",
          "2004-10-08T20:00:00",
          "2004-10-08T21:00:00",
          "2004-10-08T22:00:00",
          "2004-10-08T23:00:00",
          "2004-10-09T00:00:00",
          "2004-10-09T01:00:00",
          "2004-10-09T02:00:00",
          "2004-10-09T03:00:00",
          "2004-10-09T04:00:00",
          "2004-10-09T05:00:00",
          "2004-10-09T06:00:00",
          "2004-10-09T07:00:00",
          "2004-10-09T08:00:00",
          "2004-10-09T09:00:00",
          "2004-10-09T10:00:00",
          "2004-10-09T11:00:00",
          "2004-10-09T12:00:00",
          "2004-10-09T13:00:00",
          "2004-10-09T14:00:00",
          "2004-10-09T15:00:00",
          "2004-10-09T16:00:00",
          "2004-10-09T17:00:00",
          "2004-10-09T18:00:00",
          "2004-10-09T19:00:00",
          "2004-10-09T20:00:00",
          "2004-10-09T21:00:00",
          "2004-10-09T22:00:00",
          "2004-10-09T23:00:00",
          "2004-10-10T00:00:00",
          "2004-10-10T01:00:00",
          "2004-10-10T02:00:00",
          "2004-10-10T03:00:00",
          "2004-10-10T04:00:00",
          "2004-10-10T05:00:00",
          "2004-10-10T06:00:00",
          "2004-10-10T07:00:00",
          "2004-10-10T08:00:00",
          "2004-10-10T09:00:00",
          "2004-10-10T10:00:00",
          "2004-10-10T11:00:00",
          "2004-10-10T12:00:00",
          "2004-10-10T13:00:00",
          "2004-10-10T14:00:00",
          "2004-10-10T15:00:00",
          "2004-10-10T16:00:00",
          "2004-10-10T17:00:00",
          "2004-10-10T18:00:00",
          "2004-10-10T19:00:00",
          "2004-10-10T20:00:00",
          "2004-10-10T21:00:00",
          "2004-10-10T22:00:00",
          "2004-10-10T23:00:00",
          "2004-10-11T00:00:00",
          "2004-10-11T01:00:00",
          "2004-10-11T02:00:00",
          "2004-10-11T03:00:00",
          "2004-10-11T04:00:00",
          "2004-10-11T05:00:00",
          "2004-10-11T06:00:00",
          "2004-10-11T07:00:00",
          "2004-10-11T08:00:00",
          "2004-10-11T09:00:00",
          "2004-10-11T10:00:00",
          "2004-10-11T11:00:00",
          "2004-10-11T12:00:00",
          "2004-10-11T13:00:00",
          "2004-10-11T14:00:00",
          "2004-10-11T15:00:00",
          "2004-10-11T16:00:00",
          "2004-10-11T17:00:00",
          "2004-10-11T18:00:00",
          "2004-10-11T19:00:00",
          "2004-10-11T20:00:00",
          "2004-10-11T21:00:00",
          "2004-10-11T22:00:00",
          "2004-10-11T23:00:00",
          "2004-10-12T00:00:00",
          "2004-10-12T01:00:00",
          "2004-10-12T02:00:00",
          "2004-10-12T03:00:00",
          "2004-10-12T04:00:00",
          "2004-10-12T05:00:00",
          "2004-10-12T06:00:00",
          "2004-10-12T07:00:00",
          "2004-10-12T08:00:00",
          "2004-10-12T09:00:00",
          "2004-10-12T10:00:00",
          "2004-10-12T11:00:00",
          "2004-10-12T12:00:00",
          "2004-10-12T13:00:00",
          "2004-10-12T14:00:00",
          "2004-10-12T15:00:00",
          "2004-10-12T16:00:00",
          "2004-10-12T17:00:00",
          "2004-10-12T18:00:00",
          "2004-10-12T19:00:00",
          "2004-10-12T20:00:00",
          "2004-10-12T21:00:00",
          "2004-10-12T22:00:00",
          "2004-10-12T23:00:00",
          "2004-10-13T00:00:00",
          "2004-10-13T01:00:00",
          "2004-10-13T02:00:00",
          "2004-10-13T03:00:00",
          "2004-10-13T04:00:00",
          "2004-10-13T05:00:00",
          "2004-10-13T06:00:00",
          "2004-10-13T07:00:00",
          "2004-10-13T08:00:00",
          "2004-10-13T09:00:00",
          "2004-10-13T10:00:00",
          "2004-10-13T11:00:00",
          "2004-10-13T12:00:00",
          "2004-10-13T13:00:00",
          "2004-10-13T14:00:00",
          "2004-10-13T15:00:00",
          "2004-10-13T16:00:00",
          "2004-10-13T17:00:00",
          "2004-10-13T18:00:00",
          "2004-10-13T19:00:00",
          "2004-10-13T20:00:00",
          "2004-10-13T21:00:00",
          "2004-10-13T22:00:00",
          "2004-10-13T23:00:00",
          "2004-10-14T00:00:00",
          "2004-10-14T01:00:00",
          "2004-10-14T02:00:00",
          "2004-10-14T03:00:00",
          "2004-10-14T04:00:00",
          "2004-10-14T05:00:00",
          "2004-10-14T06:00:00",
          "2004-10-14T07:00:00",
          "2004-10-14T08:00:00",
          "2004-10-14T09:00:00",
          "2004-10-14T10:00:00",
          "2004-10-14T11:00:00",
          "2004-10-14T12:00:00",
          "2004-10-14T13:00:00",
          "2004-10-14T14:00:00",
          "2004-10-14T15:00:00",
          "2004-10-14T16:00:00",
          "2004-10-14T17:00:00",
          "2004-10-14T18:00:00",
          "2004-10-14T19:00:00",
          "2004-10-14T20:00:00",
          "2004-10-14T21:00:00",
          "2004-10-14T22:00:00",
          "2004-10-14T23:00:00",
          "2004-10-15T00:00:00",
          "2004-10-15T01:00:00",
          "2004-10-15T02:00:00",
          "2004-10-15T03:00:00",
          "2004-10-15T04:00:00",
          "2004-10-15T05:00:00",
          "2004-10-15T06:00:00",
          "2004-10-15T07:00:00",
          "2004-10-15T08:00:00",
          "2004-10-15T09:00:00",
          "2004-10-15T10:00:00",
          "2004-10-15T11:00:00",
          "2004-10-15T12:00:00",
          "2004-10-15T13:00:00",
          "2004-10-15T14:00:00",
          "2004-10-15T15:00:00",
          "2004-10-15T16:00:00",
          "2004-10-15T17:00:00",
          "2004-10-15T18:00:00",
          "2004-10-15T19:00:00",
          "2004-10-15T20:00:00",
          "2004-10-15T21:00:00",
          "2004-10-15T22:00:00",
          "2004-10-15T23:00:00",
          "2004-10-16T00:00:00",
          "2004-10-16T01:00:00",
          "2004-10-16T02:00:00",
          "2004-10-16T03:00:00",
          "2004-10-16T04:00:00",
          "2004-10-16T05:00:00",
          "2004-10-16T06:00:00",
          "2004-10-16T07:00:00",
          "2004-10-16T08:00:00",
          "2004-10-16T09:00:00",
          "2004-10-16T10:00:00",
          "2004-10-16T11:00:00",
          "2004-10-16T12:00:00",
          "2004-10-16T13:00:00",
          "2004-10-16T14:00:00",
          "2004-10-16T15:00:00",
          "2004-10-16T16:00:00",
          "2004-10-16T17:00:00",
          "2004-10-16T18:00:00",
          "2004-10-16T19:00:00",
          "2004-10-16T20:00:00",
          "2004-10-16T21:00:00",
          "2004-10-16T22:00:00",
          "2004-10-16T23:00:00",
          "2004-10-17T00:00:00",
          "2004-10-17T01:00:00",
          "2004-10-17T02:00:00",
          "2004-10-17T03:00:00",
          "2004-10-17T04:00:00",
          "2004-10-17T05:00:00",
          "2004-10-17T06:00:00",
          "2004-10-17T07:00:00",
          "2004-10-17T08:00:00",
          "2004-10-17T09:00:00",
          "2004-10-17T10:00:00",
          "2004-10-17T11:00:00",
          "2004-10-17T12:00:00",
          "2004-10-17T13:00:00",
          "2004-10-17T14:00:00",
          "2004-10-17T15:00:00",
          "2004-10-17T16:00:00",
          "2004-10-17T17:00:00",
          "2004-10-17T18:00:00",
          "2004-10-17T19:00:00",
          "2004-10-17T20:00:00",
          "2004-10-17T21:00:00",
          "2004-10-17T22:00:00",
          "2004-10-17T23:00:00",
          "2004-10-18T00:00:00",
          "2004-10-18T01:00:00",
          "2004-10-18T02:00:00",
          "2004-10-18T03:00:00",
          "2004-10-18T04:00:00",
          "2004-10-18T05:00:00",
          "2004-10-18T06:00:00",
          "2004-10-18T07:00:00",
          "2004-10-18T08:00:00",
          "2004-10-18T09:00:00",
          "2004-10-18T10:00:00",
          "2004-10-18T11:00:00",
          "2004-10-18T12:00:00",
          "2004-10-18T13:00:00",
          "2004-10-18T14:00:00",
          "2004-10-18T15:00:00",
          "2004-10-18T16:00:00",
          "2004-10-18T17:00:00",
          "2004-10-18T18:00:00",
          "2004-10-18T19:00:00",
          "2004-10-18T20:00:00",
          "2004-10-18T21:00:00",
          "2004-10-18T22:00:00",
          "2004-10-18T23:00:00",
          "2004-10-19T00:00:00",
          "2004-10-19T01:00:00",
          "2004-10-19T02:00:00",
          "2004-10-19T03:00:00",
          "2004-10-19T04:00:00",
          "2004-10-19T05:00:00",
          "2004-10-19T06:00:00",
          "2004-10-19T07:00:00",
          "2004-10-19T08:00:00",
          "2004-10-19T09:00:00",
          "2004-10-19T10:00:00",
          "2004-10-19T11:00:00",
          "2004-10-19T12:00:00",
          "2004-10-19T13:00:00",
          "2004-10-19T14:00:00",
          "2004-10-19T15:00:00",
          "2004-10-19T16:00:00",
          "2004-10-19T17:00:00",
          "2004-10-19T18:00:00",
          "2004-10-19T19:00:00",
          "2004-10-19T20:00:00",
          "2004-10-19T21:00:00",
          "2004-10-19T22:00:00",
          "2004-10-19T23:00:00",
          "2004-10-20T00:00:00",
          "2004-10-20T01:00:00",
          "2004-10-20T02:00:00",
          "2004-10-20T03:00:00",
          "2004-10-20T04:00:00",
          "2004-10-20T05:00:00",
          "2004-10-20T06:00:00",
          "2004-10-20T07:00:00",
          "2004-10-20T08:00:00",
          "2004-10-20T09:00:00",
          "2004-10-20T10:00:00",
          "2004-10-20T11:00:00",
          "2004-10-20T12:00:00",
          "2004-10-20T13:00:00",
          "2004-10-20T14:00:00",
          "2004-10-20T15:00:00",
          "2004-10-20T16:00:00",
          "2004-10-20T17:00:00",
          "2004-10-20T18:00:00",
          "2004-10-20T19:00:00",
          "2004-10-20T20:00:00",
          "2004-10-20T21:00:00",
          "2004-10-20T22:00:00",
          "2004-10-20T23:00:00",
          "2004-10-21T00:00:00",
          "2004-10-21T01:00:00",
          "2004-10-21T02:00:00",
          "2004-10-21T03:00:00",
          "2004-10-21T04:00:00",
          "2004-10-21T05:00:00",
          "2004-10-21T06:00:00",
          "2004-10-21T07:00:00",
          "2004-10-21T08:00:00",
          "2004-10-21T09:00:00",
          "2004-10-21T10:00:00",
          "2004-10-21T11:00:00",
          "2004-10-21T12:00:00",
          "2004-10-21T13:00:00",
          "2004-10-21T14:00:00",
          "2004-10-21T15:00:00",
          "2004-10-21T16:00:00",
          "2004-10-21T17:00:00",
          "2004-10-21T18:00:00",
          "2004-10-21T19:00:00",
          "2004-10-21T20:00:00",
          "2004-10-21T21:00:00",
          "2004-10-21T22:00:00",
          "2004-10-21T23:00:00",
          "2004-10-22T00:00:00",
          "2004-10-22T01:00:00",
          "2004-10-22T02:00:00",
          "2004-10-22T03:00:00",
          "2004-10-22T04:00:00",
          "2004-10-22T05:00:00",
          "2004-10-22T06:00:00",
          "2004-10-22T07:00:00",
          "2004-10-22T08:00:00",
          "2004-10-22T09:00:00",
          "2004-10-22T10:00:00",
          "2004-10-22T11:00:00",
          "2004-10-22T12:00:00",
          "2004-10-22T13:00:00",
          "2004-10-22T14:00:00",
          "2004-10-22T15:00:00",
          "2004-10-22T16:00:00",
          "2004-10-22T17:00:00",
          "2004-10-22T18:00:00",
          "2004-10-22T19:00:00",
          "2004-10-22T20:00:00",
          "2004-10-22T21:00:00",
          "2004-10-22T22:00:00",
          "2004-10-22T23:00:00",
          "2004-10-23T00:00:00",
          "2004-10-23T01:00:00",
          "2004-10-23T02:00:00",
          "2004-10-23T03:00:00",
          "2004-10-23T04:00:00",
          "2004-10-23T05:00:00",
          "2004-10-23T06:00:00",
          "2004-10-23T07:00:00",
          "2004-10-23T08:00:00",
          "2004-10-23T09:00:00",
          "2004-10-23T10:00:00",
          "2004-10-23T11:00:00",
          "2004-10-23T12:00:00",
          "2004-10-23T13:00:00",
          "2004-10-23T14:00:00",
          "2004-10-23T15:00:00",
          "2004-10-23T16:00:00",
          "2004-10-23T17:00:00",
          "2004-10-23T18:00:00",
          "2004-10-23T19:00:00",
          "2004-10-23T20:00:00",
          "2004-10-23T21:00:00",
          "2004-10-23T22:00:00",
          "2004-10-23T23:00:00",
          "2004-10-24T00:00:00",
          "2004-10-24T01:00:00",
          "2004-10-24T02:00:00",
          "2004-10-24T03:00:00",
          "2004-10-24T04:00:00",
          "2004-10-24T05:00:00",
          "2004-10-24T06:00:00",
          "2004-10-24T07:00:00",
          "2004-10-24T08:00:00",
          "2004-10-24T09:00:00",
          "2004-10-24T10:00:00",
          "2004-10-24T11:00:00",
          "2004-10-24T12:00:00",
          "2004-10-24T13:00:00",
          "2004-10-24T14:00:00",
          "2004-10-24T15:00:00",
          "2004-10-24T16:00:00",
          "2004-10-24T17:00:00",
          "2004-10-24T18:00:00",
          "2004-10-24T19:00:00",
          "2004-10-24T20:00:00",
          "2004-10-24T21:00:00",
          "2004-10-24T22:00:00",
          "2004-10-24T23:00:00",
          "2004-10-25T00:00:00"
         ],
         "xaxis": "x",
         "y": [
          0,
          0,
          0,
          0,
          0,
          0,
          0,
          0,
          0,
          0,
          0,
          0,
          0,
          0,
          0,
          0,
          0,
          0,
          0,
          0,
          0,
          0,
          0,
          0,
          0,
          0,
          0,
          0,
          0,
          0,
          0,
          0,
          0,
          0,
          0,
          0,
          0,
          0,
          0,
          0,
          0,
          0,
          0,
          0,
          0,
          0,
          0,
          0,
          0,
          0,
          0,
          0,
          0,
          0,
          0,
          0,
          0,
          0,
          0,
          0,
          0,
          0,
          0,
          0,
          0,
          0,
          0,
          0,
          0,
          0,
          0,
          0,
          0,
          0,
          0,
          0,
          0,
          0,
          0,
          0,
          0,
          0,
          0,
          0,
          0,
          0,
          0,
          0,
          0,
          0,
          0,
          0.007594558876007795,
          0.008137162774801254,
          0.008576781488955021,
          0.009228948503732681,
          0.010496871545910835,
          0.012134837917983532,
          0.016897812485694885,
          0.02631903439760208,
          0.037527527660131454,
          0.04996300861239433,
          0.06369024515151978,
          0.09498346596956253,
          0.1232040524482727,
          0.1310299187898636,
          0.13891588151454926,
          0.14625361561775208,
          0.15448834002017975,
          0.1411178857088089,
          0.12833887338638306,
          0.13978047668933868,
          0.1519087553024292,
          0.16454535722732544,
          0.17796358466148376,
          0.1881415843963623,
          0.18538573384284973,
          0.17332613468170166,
          0.16163061559200287,
          0.1502910554409027,
          0.1388891488313675,
          0.13051562011241913,
          0.13213397562503815,
          0.14088159799575806,
          0.14992940425872803,
          0.15927386283874512,
          0.16912563145160675,
          0.18051260709762573,
          0.19554802775382996,
          0.2137403041124344,
          0.23359279334545135,
          0.2573058605194092,
          0.28821423649787903,
          0,
          0,
          0,
          0,
          0,
          0,
          0,
          0,
          0,
          0,
          0,
          0,
          0,
          0,
          0,
          0,
          0,
          0,
          0,
          0,
          0,
          0,
          0,
          0,
          0,
          0,
          0,
          0,
          0,
          0,
          0,
          0,
          0,
          0,
          0,
          0,
          0,
          0,
          0,
          0,
          0,
          0,
          0,
          0,
          0,
          0,
          0,
          0,
          0,
          0,
          0,
          0,
          0,
          0,
          0,
          0,
          0,
          0,
          0,
          0,
          0,
          0,
          0,
          0,
          0,
          0,
          0,
          0,
          0,
          0,
          0,
          0,
          0,
          0,
          0,
          0,
          0,
          0,
          0,
          0,
          0,
          0,
          0,
          0,
          0,
          0,
          0,
          0,
          0,
          0,
          0,
          0,
          0,
          0,
          0,
          0,
          0,
          0,
          0,
          0,
          0,
          0,
          0,
          0,
          0,
          0,
          0,
          0,
          0,
          0,
          0,
          0,
          0,
          0,
          0,
          0,
          0,
          0,
          0,
          0,
          0,
          0,
          0,
          0,
          0,
          0,
          0,
          0,
          0,
          0,
          0,
          0,
          0,
          0,
          0,
          0,
          0,
          0,
          0,
          0,
          0,
          0,
          0,
          0,
          0,
          0,
          0,
          0,
          0,
          0,
          0,
          0,
          0,
          0,
          0,
          0,
          0,
          0,
          0,
          0,
          0,
          0,
          0,
          0,
          0,
          0,
          0,
          0,
          0,
          0,
          0,
          0,
          0,
          0,
          0,
          0,
          0,
          0,
          0,
          0,
          0,
          0,
          0,
          0,
          0,
          0,
          0,
          0,
          0,
          0,
          0,
          0,
          0,
          0,
          0,
          0,
          0,
          0,
          0,
          0,
          0,
          0,
          0,
          0,
          0,
          0,
          0,
          0,
          0,
          0,
          0,
          0,
          0,
          0,
          0,
          0,
          0,
          0,
          0,
          0,
          0,
          0,
          0,
          0,
          0,
          0,
          0,
          0,
          0,
          0,
          0,
          0,
          0,
          0,
          0,
          0,
          0,
          0,
          0,
          0,
          0,
          0,
          0,
          0,
          0,
          0,
          0,
          0,
          0,
          0,
          0,
          0,
          0,
          0,
          0,
          0,
          0,
          0,
          0,
          0,
          0,
          0,
          0,
          0,
          0,
          0,
          0,
          0,
          0,
          0,
          0,
          0,
          0,
          0,
          0,
          0,
          0,
          0,
          0,
          0,
          0,
          0,
          0,
          0,
          0,
          0,
          0,
          0,
          0,
          0,
          0,
          0,
          0,
          0,
          0,
          0,
          0,
          0,
          0,
          0,
          0,
          0,
          0,
          0,
          0,
          0,
          0,
          0,
          0,
          0,
          0,
          0,
          0,
          0,
          0,
          0,
          0,
          0,
          0,
          0,
          0,
          0,
          0,
          0,
          0,
          0,
          0,
          0,
          0,
          0,
          0,
          0,
          0,
          0,
          0,
          0,
          0,
          0,
          0,
          0,
          0,
          0,
          0,
          0,
          0,
          0,
          0,
          0
         ],
         "yaxis": "y"
        }
       ],
       "layout": {
        "annotations": [
         {
          "font": {
           "size": 16
          },
          "showarrow": false,
          "text": "AMITE",
          "x": 0.5,
          "xanchor": "center",
          "xref": "paper",
          "y": 1,
          "yanchor": "bottom",
          "yref": "paper"
         },
         {
          "font": {
           "family": "sans-serif",
           "size": 22
          },
          "showarrow": false,
          "text": "AMITE",
          "x": 0.9,
          "xref": "x domain",
          "y": 0.9,
          "yref": "y domain"
         }
        ],
        "height": 800,
        "hoverlabel": {
         "font": {
          "family": "sans-serif",
          "size": 22
         },
         "namelength": -1
        },
        "template": {
         "data": {
          "bar": [
           {
            "error_x": {
             "color": "#f2f5fa"
            },
            "error_y": {
             "color": "#f2f5fa"
            },
            "marker": {
             "line": {
              "color": "rgb(17,17,17)",
              "width": 0.5
             },
             "pattern": {
              "fillmode": "overlay",
              "size": 10,
              "solidity": 0.2
             }
            },
            "type": "bar"
           }
          ],
          "barpolar": [
           {
            "marker": {
             "line": {
              "color": "rgb(17,17,17)",
              "width": 0.5
             },
             "pattern": {
              "fillmode": "overlay",
              "size": 10,
              "solidity": 0.2
             }
            },
            "type": "barpolar"
           }
          ],
          "carpet": [
           {
            "aaxis": {
             "endlinecolor": "#A2B1C6",
             "gridcolor": "#506784",
             "linecolor": "#506784",
             "minorgridcolor": "#506784",
             "startlinecolor": "#A2B1C6"
            },
            "baxis": {
             "endlinecolor": "#A2B1C6",
             "gridcolor": "#506784",
             "linecolor": "#506784",
             "minorgridcolor": "#506784",
             "startlinecolor": "#A2B1C6"
            },
            "type": "carpet"
           }
          ],
          "choropleth": [
           {
            "colorbar": {
             "outlinewidth": 0,
             "ticks": ""
            },
            "type": "choropleth"
           }
          ],
          "contour": [
           {
            "colorbar": {
             "outlinewidth": 0,
             "ticks": ""
            },
            "colorscale": [
             [
              0,
              "#0d0887"
             ],
             [
              0.1111111111111111,
              "#46039f"
             ],
             [
              0.2222222222222222,
              "#7201a8"
             ],
             [
              0.3333333333333333,
              "#9c179e"
             ],
             [
              0.4444444444444444,
              "#bd3786"
             ],
             [
              0.5555555555555556,
              "#d8576b"
             ],
             [
              0.6666666666666666,
              "#ed7953"
             ],
             [
              0.7777777777777778,
              "#fb9f3a"
             ],
             [
              0.8888888888888888,
              "#fdca26"
             ],
             [
              1,
              "#f0f921"
             ]
            ],
            "type": "contour"
           }
          ],
          "contourcarpet": [
           {
            "colorbar": {
             "outlinewidth": 0,
             "ticks": ""
            },
            "type": "contourcarpet"
           }
          ],
          "heatmap": [
           {
            "colorbar": {
             "outlinewidth": 0,
             "ticks": ""
            },
            "colorscale": [
             [
              0,
              "#0d0887"
             ],
             [
              0.1111111111111111,
              "#46039f"
             ],
             [
              0.2222222222222222,
              "#7201a8"
             ],
             [
              0.3333333333333333,
              "#9c179e"
             ],
             [
              0.4444444444444444,
              "#bd3786"
             ],
             [
              0.5555555555555556,
              "#d8576b"
             ],
             [
              0.6666666666666666,
              "#ed7953"
             ],
             [
              0.7777777777777778,
              "#fb9f3a"
             ],
             [
              0.8888888888888888,
              "#fdca26"
             ],
             [
              1,
              "#f0f921"
             ]
            ],
            "type": "heatmap"
           }
          ],
          "heatmapgl": [
           {
            "colorbar": {
             "outlinewidth": 0,
             "ticks": ""
            },
            "colorscale": [
             [
              0,
              "#0d0887"
             ],
             [
              0.1111111111111111,
              "#46039f"
             ],
             [
              0.2222222222222222,
              "#7201a8"
             ],
             [
              0.3333333333333333,
              "#9c179e"
             ],
             [
              0.4444444444444444,
              "#bd3786"
             ],
             [
              0.5555555555555556,
              "#d8576b"
             ],
             [
              0.6666666666666666,
              "#ed7953"
             ],
             [
              0.7777777777777778,
              "#fb9f3a"
             ],
             [
              0.8888888888888888,
              "#fdca26"
             ],
             [
              1,
              "#f0f921"
             ]
            ],
            "type": "heatmapgl"
           }
          ],
          "histogram": [
           {
            "marker": {
             "pattern": {
              "fillmode": "overlay",
              "size": 10,
              "solidity": 0.2
             }
            },
            "type": "histogram"
           }
          ],
          "histogram2d": [
           {
            "colorbar": {
             "outlinewidth": 0,
             "ticks": ""
            },
            "colorscale": [
             [
              0,
              "#0d0887"
             ],
             [
              0.1111111111111111,
              "#46039f"
             ],
             [
              0.2222222222222222,
              "#7201a8"
             ],
             [
              0.3333333333333333,
              "#9c179e"
             ],
             [
              0.4444444444444444,
              "#bd3786"
             ],
             [
              0.5555555555555556,
              "#d8576b"
             ],
             [
              0.6666666666666666,
              "#ed7953"
             ],
             [
              0.7777777777777778,
              "#fb9f3a"
             ],
             [
              0.8888888888888888,
              "#fdca26"
             ],
             [
              1,
              "#f0f921"
             ]
            ],
            "type": "histogram2d"
           }
          ],
          "histogram2dcontour": [
           {
            "colorbar": {
             "outlinewidth": 0,
             "ticks": ""
            },
            "colorscale": [
             [
              0,
              "#0d0887"
             ],
             [
              0.1111111111111111,
              "#46039f"
             ],
             [
              0.2222222222222222,
              "#7201a8"
             ],
             [
              0.3333333333333333,
              "#9c179e"
             ],
             [
              0.4444444444444444,
              "#bd3786"
             ],
             [
              0.5555555555555556,
              "#d8576b"
             ],
             [
              0.6666666666666666,
              "#ed7953"
             ],
             [
              0.7777777777777778,
              "#fb9f3a"
             ],
             [
              0.8888888888888888,
              "#fdca26"
             ],
             [
              1,
              "#f0f921"
             ]
            ],
            "type": "histogram2dcontour"
           }
          ],
          "mesh3d": [
           {
            "colorbar": {
             "outlinewidth": 0,
             "ticks": ""
            },
            "type": "mesh3d"
           }
          ],
          "parcoords": [
           {
            "line": {
             "colorbar": {
              "outlinewidth": 0,
              "ticks": ""
             }
            },
            "type": "parcoords"
           }
          ],
          "pie": [
           {
            "automargin": true,
            "type": "pie"
           }
          ],
          "scatter": [
           {
            "marker": {
             "line": {
              "color": "#283442"
             }
            },
            "type": "scatter"
           }
          ],
          "scatter3d": [
           {
            "line": {
             "colorbar": {
              "outlinewidth": 0,
              "ticks": ""
             }
            },
            "marker": {
             "colorbar": {
              "outlinewidth": 0,
              "ticks": ""
             }
            },
            "type": "scatter3d"
           }
          ],
          "scattercarpet": [
           {
            "marker": {
             "colorbar": {
              "outlinewidth": 0,
              "ticks": ""
             }
            },
            "type": "scattercarpet"
           }
          ],
          "scattergeo": [
           {
            "marker": {
             "colorbar": {
              "outlinewidth": 0,
              "ticks": ""
             }
            },
            "type": "scattergeo"
           }
          ],
          "scattergl": [
           {
            "marker": {
             "line": {
              "color": "#283442"
             }
            },
            "type": "scattergl"
           }
          ],
          "scattermapbox": [
           {
            "marker": {
             "colorbar": {
              "outlinewidth": 0,
              "ticks": ""
             }
            },
            "type": "scattermapbox"
           }
          ],
          "scatterpolar": [
           {
            "marker": {
             "colorbar": {
              "outlinewidth": 0,
              "ticks": ""
             }
            },
            "type": "scatterpolar"
           }
          ],
          "scatterpolargl": [
           {
            "marker": {
             "colorbar": {
              "outlinewidth": 0,
              "ticks": ""
             }
            },
            "type": "scatterpolargl"
           }
          ],
          "scatterternary": [
           {
            "marker": {
             "colorbar": {
              "outlinewidth": 0,
              "ticks": ""
             }
            },
            "type": "scatterternary"
           }
          ],
          "surface": [
           {
            "colorbar": {
             "outlinewidth": 0,
             "ticks": ""
            },
            "colorscale": [
             [
              0,
              "#0d0887"
             ],
             [
              0.1111111111111111,
              "#46039f"
             ],
             [
              0.2222222222222222,
              "#7201a8"
             ],
             [
              0.3333333333333333,
              "#9c179e"
             ],
             [
              0.4444444444444444,
              "#bd3786"
             ],
             [
              0.5555555555555556,
              "#d8576b"
             ],
             [
              0.6666666666666666,
              "#ed7953"
             ],
             [
              0.7777777777777778,
              "#fb9f3a"
             ],
             [
              0.8888888888888888,
              "#fdca26"
             ],
             [
              1,
              "#f0f921"
             ]
            ],
            "type": "surface"
           }
          ],
          "table": [
           {
            "cells": {
             "fill": {
              "color": "#506784"
             },
             "line": {
              "color": "rgb(17,17,17)"
             }
            },
            "header": {
             "fill": {
              "color": "#2a3f5f"
             },
             "line": {
              "color": "rgb(17,17,17)"
             }
            },
            "type": "table"
           }
          ]
         },
         "layout": {
          "annotationdefaults": {
           "arrowcolor": "#f2f5fa",
           "arrowhead": 0,
           "arrowwidth": 1
          },
          "autotypenumbers": "strict",
          "coloraxis": {
           "colorbar": {
            "outlinewidth": 0,
            "ticks": ""
           }
          },
          "colorscale": {
           "diverging": [
            [
             0,
             "#8e0152"
            ],
            [
             0.1,
             "#c51b7d"
            ],
            [
             0.2,
             "#de77ae"
            ],
            [
             0.3,
             "#f1b6da"
            ],
            [
             0.4,
             "#fde0ef"
            ],
            [
             0.5,
             "#f7f7f7"
            ],
            [
             0.6,
             "#e6f5d0"
            ],
            [
             0.7,
             "#b8e186"
            ],
            [
             0.8,
             "#7fbc41"
            ],
            [
             0.9,
             "#4d9221"
            ],
            [
             1,
             "#276419"
            ]
           ],
           "sequential": [
            [
             0,
             "#0d0887"
            ],
            [
             0.1111111111111111,
             "#46039f"
            ],
            [
             0.2222222222222222,
             "#7201a8"
            ],
            [
             0.3333333333333333,
             "#9c179e"
            ],
            [
             0.4444444444444444,
             "#bd3786"
            ],
            [
             0.5555555555555556,
             "#d8576b"
            ],
            [
             0.6666666666666666,
             "#ed7953"
            ],
            [
             0.7777777777777778,
             "#fb9f3a"
            ],
            [
             0.8888888888888888,
             "#fdca26"
            ],
            [
             1,
             "#f0f921"
            ]
           ],
           "sequentialminus": [
            [
             0,
             "#0d0887"
            ],
            [
             0.1111111111111111,
             "#46039f"
            ],
            [
             0.2222222222222222,
             "#7201a8"
            ],
            [
             0.3333333333333333,
             "#9c179e"
            ],
            [
             0.4444444444444444,
             "#bd3786"
            ],
            [
             0.5555555555555556,
             "#d8576b"
            ],
            [
             0.6666666666666666,
             "#ed7953"
            ],
            [
             0.7777777777777778,
             "#fb9f3a"
            ],
            [
             0.8888888888888888,
             "#fdca26"
            ],
            [
             1,
             "#f0f921"
            ]
           ]
          },
          "colorway": [
           "#636efa",
           "#EF553B",
           "#00cc96",
           "#ab63fa",
           "#FFA15A",
           "#19d3f3",
           "#FF6692",
           "#B6E880",
           "#FF97FF",
           "#FECB52"
          ],
          "font": {
           "color": "#f2f5fa"
          },
          "geo": {
           "bgcolor": "rgb(17,17,17)",
           "lakecolor": "rgb(17,17,17)",
           "landcolor": "rgb(17,17,17)",
           "showlakes": true,
           "showland": true,
           "subunitcolor": "#506784"
          },
          "hoverlabel": {
           "align": "left"
          },
          "hovermode": "closest",
          "mapbox": {
           "style": "dark"
          },
          "paper_bgcolor": "rgb(17,17,17)",
          "plot_bgcolor": "rgb(17,17,17)",
          "polar": {
           "angularaxis": {
            "gridcolor": "#506784",
            "linecolor": "#506784",
            "ticks": ""
           },
           "bgcolor": "rgb(17,17,17)",
           "radialaxis": {
            "gridcolor": "#506784",
            "linecolor": "#506784",
            "ticks": ""
           }
          },
          "scene": {
           "xaxis": {
            "backgroundcolor": "rgb(17,17,17)",
            "gridcolor": "#506784",
            "gridwidth": 2,
            "linecolor": "#506784",
            "showbackground": true,
            "ticks": "",
            "zerolinecolor": "#C8D4E3"
           },
           "yaxis": {
            "backgroundcolor": "rgb(17,17,17)",
            "gridcolor": "#506784",
            "gridwidth": 2,
            "linecolor": "#506784",
            "showbackground": true,
            "ticks": "",
            "zerolinecolor": "#C8D4E3"
           },
           "zaxis": {
            "backgroundcolor": "rgb(17,17,17)",
            "gridcolor": "#506784",
            "gridwidth": 2,
            "linecolor": "#506784",
            "showbackground": true,
            "ticks": "",
            "zerolinecolor": "#C8D4E3"
           }
          },
          "shapedefaults": {
           "line": {
            "color": "#f2f5fa"
           }
          },
          "sliderdefaults": {
           "bgcolor": "#C8D4E3",
           "bordercolor": "rgb(17,17,17)",
           "borderwidth": 1,
           "tickwidth": 0
          },
          "ternary": {
           "aaxis": {
            "gridcolor": "#506784",
            "linecolor": "#506784",
            "ticks": ""
           },
           "baxis": {
            "gridcolor": "#506784",
            "linecolor": "#506784",
            "ticks": ""
           },
           "bgcolor": "rgb(17,17,17)",
           "caxis": {
            "gridcolor": "#506784",
            "linecolor": "#506784",
            "ticks": ""
           }
          },
          "title": {
           "x": 0.05
          },
          "updatemenudefaults": {
           "bgcolor": "#506784",
           "borderwidth": 0
          },
          "xaxis": {
           "automargin": true,
           "gridcolor": "#283442",
           "linecolor": "#506784",
           "ticks": "",
           "title": {
            "standoff": 15
           },
           "zerolinecolor": "#283442",
           "zerolinewidth": 2
          },
          "yaxis": {
           "automargin": true,
           "gridcolor": "#283442",
           "linecolor": "#506784",
           "ticks": "",
           "title": {
            "standoff": 15
           },
           "zerolinecolor": "#283442",
           "zerolinewidth": 2
          }
         }
        },
        "title": {
         "text": "JPM Parametric Rainfall Simulations"
        },
        "width": 2540,
        "xaxis": {
         "anchor": "y",
         "domain": [
          0,
          1
         ]
        },
        "yaxis": {
         "anchor": "x",
         "domain": [
          0,
          1
         ]
        }
       }
      }
     },
     "metadata": {},
     "output_type": "display_data"
    }
   ],
   "source": [
    "import plotly.io as pio\n",
    "pio.renderers\n",
    "fig.show()"
   ]
  },
  {
   "cell_type": "code",
   "execution_count": null,
   "metadata": {},
   "outputs": [],
   "source": [
    "for dss_file in dss_files[0:1]:\n",
    "    print (dss_file)\n",
    "    # with HecDss.Open(dss_file) as fid:\n",
    "    #     print (fid)\n",
    "    fid = HecDss.Open(dss_file)"
   ]
  },
  {
   "cell_type": "code",
   "execution_count": null,
   "metadata": {},
   "outputs": [],
   "source": [
    "for dss_file in dss_files[0:1]:\n",
    "    sim = dss_file.split(\".\")[0].split(\"_\")[-1]\n",
    "    pathname_pattern = '//AMITE/PRECIP-INC/*/1HOUR/*/'\n",
    "    # pathname = f'//AMITE/PRECIP-INC/*/1HOUR/MET:HURRICANE_MATTHEW_JPM_{sim}/'\n",
    "    with HecDss.Open(dss_file) as fid:\n",
    "        # ts = fid.read_ts(pathname)\n",
    "        path_list = fid.getPathnameList(pathname_pattern,sort=1)"
   ]
  }
 ],
 "metadata": {
  "kernelspec": {
   "display_name": "Python 3.9.7 ('xr39')",
   "language": "python",
   "name": "python3"
  },
  "language_info": {
   "codemirror_mode": {
    "name": "ipython",
    "version": 3
   },
   "file_extension": ".py",
   "mimetype": "text/x-python",
   "name": "python",
   "nbconvert_exporter": "python",
   "pygments_lexer": "ipython3",
   "version": "3.9.7"
  },
  "orig_nbformat": 4,
  "vscode": {
   "interpreter": {
    "hash": "56630e547aa29e0d41f7662d70f7d89cb5f9b8fa2e599dfc2d3aadbd013cfd7f"
   }
  }
 },
 "nbformat": 4,
 "nbformat_minor": 2
}
