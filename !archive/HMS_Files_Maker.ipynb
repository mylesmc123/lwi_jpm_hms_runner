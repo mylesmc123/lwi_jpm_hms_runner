{
 "cells": [
  {
   "cell_type": "code",
   "execution_count": 2,
   "metadata": {},
   "outputs": [],
   "source": [
    "import glob"
   ]
  },
  {
   "cell_type": "code",
   "execution_count": 3,
   "metadata": {},
   "outputs": [],
   "source": [
    "event = \"TS_Matthew\"\n",
    "\n",
    "model_dir = r\"Z:\\Amite\\HMS_9_simulations_AORC_bins\\HMS_Models_Hurricanes_AORC_25Percentiles\"\n",
    "dss_dir =  fr'Z:\\Amite\\precipitation\\JPM_Additional_dss\\{event}'\n",
    "grid_fn = 'Amite_Final_HMS_Model.grid'\n",
    "run_fn = 'Amite_Final_HMS_Model.run'\n",
    "hms_fn = 'Amite_Final_HMS_Model.hms'"
   ]
  },
  {
   "cell_type": "code",
   "execution_count": 4,
   "metadata": {},
   "outputs": [
    {
     "name": "stdout",
     "output_type": "stream",
     "text": [
      "['TS_Matthew_75P_JPM_Sim1', 'TS_Matthew_75P_JPM_Sim10', 'TS_Matthew_75P_JPM_Sim100', 'TS_Matthew_75P_JPM_Sim1000', 'TS_Matthew_75P_JPM_Sim101', 'TS_Matthew_75P_JPM_Sim102', 'TS_Matthew_75P_JPM_Sim103', 'TS_Matthew_75P_JPM_Sim104', 'TS_Matthew_75P_JPM_Sim105', 'TS_Matthew_75P_JPM_Sim106', 'TS_Matthew_75P_JPM_Sim107', 'TS_Matthew_75P_JPM_Sim108', 'TS_Matthew_75P_JPM_Sim109', 'TS_Matthew_75P_JPM_Sim11', 'TS_Matthew_75P_JPM_Sim110', 'TS_Matthew_75P_JPM_Sim111', 'TS_Matthew_75P_JPM_Sim112', 'TS_Matthew_75P_JPM_Sim113', 'TS_Matthew_75P_JPM_Sim114', 'TS_Matthew_75P_JPM_Sim115', 'TS_Matthew_75P_JPM_Sim116', 'TS_Matthew_75P_JPM_Sim117', 'TS_Matthew_75P_JPM_Sim118', 'TS_Matthew_75P_JPM_Sim119', 'TS_Matthew_75P_JPM_Sim12', 'TS_Matthew_75P_JPM_Sim120', 'TS_Matthew_75P_JPM_Sim121', 'TS_Matthew_75P_JPM_Sim122', 'TS_Matthew_75P_JPM_Sim123', 'TS_Matthew_75P_JPM_Sim124', 'TS_Matthew_75P_JPM_Sim125', 'TS_Matthew_75P_JPM_Sim126', 'TS_Matthew_75P_JPM_Sim127', 'TS_Matthew_75P_JPM_Sim128', 'TS_Matthew_75P_JPM_Sim129', 'TS_Matthew_75P_JPM_Sim13', 'TS_Matthew_75P_JPM_Sim130', 'TS_Matthew_75P_JPM_Sim131', 'TS_Matthew_75P_JPM_Sim132', 'TS_Matthew_75P_JPM_Sim133', 'TS_Matthew_75P_JPM_Sim134', 'TS_Matthew_75P_JPM_Sim135', 'TS_Matthew_75P_JPM_Sim136', 'TS_Matthew_75P_JPM_Sim137', 'TS_Matthew_75P_JPM_Sim138', 'TS_Matthew_75P_JPM_Sim139', 'TS_Matthew_75P_JPM_Sim14', 'TS_Matthew_75P_JPM_Sim140', 'TS_Matthew_75P_JPM_Sim141', 'TS_Matthew_75P_JPM_Sim142', 'TS_Matthew_75P_JPM_Sim143', 'TS_Matthew_75P_JPM_Sim144', 'TS_Matthew_75P_JPM_Sim145', 'TS_Matthew_75P_JPM_Sim146', 'TS_Matthew_75P_JPM_Sim147', 'TS_Matthew_75P_JPM_Sim148', 'TS_Matthew_75P_JPM_Sim149', 'TS_Matthew_75P_JPM_Sim15', 'TS_Matthew_75P_JPM_Sim150', 'TS_Matthew_75P_JPM_Sim151', 'TS_Matthew_75P_JPM_Sim152', 'TS_Matthew_75P_JPM_Sim153', 'TS_Matthew_75P_JPM_Sim154', 'TS_Matthew_75P_JPM_Sim155', 'TS_Matthew_75P_JPM_Sim156', 'TS_Matthew_75P_JPM_Sim157', 'TS_Matthew_75P_JPM_Sim158', 'TS_Matthew_75P_JPM_Sim159', 'TS_Matthew_75P_JPM_Sim16', 'TS_Matthew_75P_JPM_Sim160', 'TS_Matthew_75P_JPM_Sim161', 'TS_Matthew_75P_JPM_Sim162', 'TS_Matthew_75P_JPM_Sim163', 'TS_Matthew_75P_JPM_Sim164', 'TS_Matthew_75P_JPM_Sim165', 'TS_Matthew_75P_JPM_Sim166', 'TS_Matthew_75P_JPM_Sim167', 'TS_Matthew_75P_JPM_Sim168', 'TS_Matthew_75P_JPM_Sim169', 'TS_Matthew_75P_JPM_Sim17', 'TS_Matthew_75P_JPM_Sim170', 'TS_Matthew_75P_JPM_Sim171', 'TS_Matthew_75P_JPM_Sim172', 'TS_Matthew_75P_JPM_Sim173', 'TS_Matthew_75P_JPM_Sim174', 'TS_Matthew_75P_JPM_Sim175', 'TS_Matthew_75P_JPM_Sim176', 'TS_Matthew_75P_JPM_Sim177', 'TS_Matthew_75P_JPM_Sim178', 'TS_Matthew_75P_JPM_Sim179', 'TS_Matthew_75P_JPM_Sim18', 'TS_Matthew_75P_JPM_Sim180', 'TS_Matthew_75P_JPM_Sim181', 'TS_Matthew_75P_JPM_Sim182', 'TS_Matthew_75P_JPM_Sim183', 'TS_Matthew_75P_JPM_Sim184', 'TS_Matthew_75P_JPM_Sim185', 'TS_Matthew_75P_JPM_Sim186', 'TS_Matthew_75P_JPM_Sim187', 'TS_Matthew_75P_JPM_Sim188', 'TS_Matthew_75P_JPM_Sim189', 'TS_Matthew_75P_JPM_Sim19', 'TS_Matthew_75P_JPM_Sim190', 'TS_Matthew_75P_JPM_Sim191', 'TS_Matthew_75P_JPM_Sim192', 'TS_Matthew_75P_JPM_Sim193', 'TS_Matthew_75P_JPM_Sim194', 'TS_Matthew_75P_JPM_Sim195', 'TS_Matthew_75P_JPM_Sim196', 'TS_Matthew_75P_JPM_Sim197', 'TS_Matthew_75P_JPM_Sim198', 'TS_Matthew_75P_JPM_Sim199', 'TS_Matthew_75P_JPM_Sim2', 'TS_Matthew_75P_JPM_Sim20', 'TS_Matthew_75P_JPM_Sim200', 'TS_Matthew_75P_JPM_Sim201', 'TS_Matthew_75P_JPM_Sim202', 'TS_Matthew_75P_JPM_Sim203', 'TS_Matthew_75P_JPM_Sim204', 'TS_Matthew_75P_JPM_Sim205', 'TS_Matthew_75P_JPM_Sim206', 'TS_Matthew_75P_JPM_Sim207', 'TS_Matthew_75P_JPM_Sim208', 'TS_Matthew_75P_JPM_Sim209', 'TS_Matthew_75P_JPM_Sim21', 'TS_Matthew_75P_JPM_Sim210', 'TS_Matthew_75P_JPM_Sim211', 'TS_Matthew_75P_JPM_Sim212', 'TS_Matthew_75P_JPM_Sim213', 'TS_Matthew_75P_JPM_Sim214', 'TS_Matthew_75P_JPM_Sim215', 'TS_Matthew_75P_JPM_Sim216', 'TS_Matthew_75P_JPM_Sim217', 'TS_Matthew_75P_JPM_Sim218', 'TS_Matthew_75P_JPM_Sim219', 'TS_Matthew_75P_JPM_Sim22', 'TS_Matthew_75P_JPM_Sim220', 'TS_Matthew_75P_JPM_Sim221', 'TS_Matthew_75P_JPM_Sim222', 'TS_Matthew_75P_JPM_Sim223', 'TS_Matthew_75P_JPM_Sim224', 'TS_Matthew_75P_JPM_Sim225', 'TS_Matthew_75P_JPM_Sim226', 'TS_Matthew_75P_JPM_Sim227', 'TS_Matthew_75P_JPM_Sim228', 'TS_Matthew_75P_JPM_Sim229', 'TS_Matthew_75P_JPM_Sim23', 'TS_Matthew_75P_JPM_Sim230', 'TS_Matthew_75P_JPM_Sim231', 'TS_Matthew_75P_JPM_Sim232', 'TS_Matthew_75P_JPM_Sim233', 'TS_Matthew_75P_JPM_Sim234', 'TS_Matthew_75P_JPM_Sim235', 'TS_Matthew_75P_JPM_Sim236', 'TS_Matthew_75P_JPM_Sim237', 'TS_Matthew_75P_JPM_Sim238', 'TS_Matthew_75P_JPM_Sim239', 'TS_Matthew_75P_JPM_Sim24', 'TS_Matthew_75P_JPM_Sim240', 'TS_Matthew_75P_JPM_Sim241', 'TS_Matthew_75P_JPM_Sim242', 'TS_Matthew_75P_JPM_Sim243', 'TS_Matthew_75P_JPM_Sim244', 'TS_Matthew_75P_JPM_Sim245', 'TS_Matthew_75P_JPM_Sim246', 'TS_Matthew_75P_JPM_Sim247', 'TS_Matthew_75P_JPM_Sim248', 'TS_Matthew_75P_JPM_Sim249', 'TS_Matthew_75P_JPM_Sim25', 'TS_Matthew_75P_JPM_Sim250', 'TS_Matthew_75P_JPM_Sim251', 'TS_Matthew_75P_JPM_Sim252', 'TS_Matthew_75P_JPM_Sim253', 'TS_Matthew_75P_JPM_Sim254', 'TS_Matthew_75P_JPM_Sim255', 'TS_Matthew_75P_JPM_Sim256', 'TS_Matthew_75P_JPM_Sim257', 'TS_Matthew_75P_JPM_Sim258', 'TS_Matthew_75P_JPM_Sim259', 'TS_Matthew_75P_JPM_Sim26', 'TS_Matthew_75P_JPM_Sim260', 'TS_Matthew_75P_JPM_Sim261', 'TS_Matthew_75P_JPM_Sim262', 'TS_Matthew_75P_JPM_Sim263', 'TS_Matthew_75P_JPM_Sim264', 'TS_Matthew_75P_JPM_Sim265', 'TS_Matthew_75P_JPM_Sim266', 'TS_Matthew_75P_JPM_Sim267', 'TS_Matthew_75P_JPM_Sim268', 'TS_Matthew_75P_JPM_Sim269', 'TS_Matthew_75P_JPM_Sim27', 'TS_Matthew_75P_JPM_Sim270', 'TS_Matthew_75P_JPM_Sim271', 'TS_Matthew_75P_JPM_Sim272', 'TS_Matthew_75P_JPM_Sim273', 'TS_Matthew_75P_JPM_Sim274', 'TS_Matthew_75P_JPM_Sim275', 'TS_Matthew_75P_JPM_Sim276', 'TS_Matthew_75P_JPM_Sim277', 'TS_Matthew_75P_JPM_Sim278', 'TS_Matthew_75P_JPM_Sim279', 'TS_Matthew_75P_JPM_Sim28', 'TS_Matthew_75P_JPM_Sim280', 'TS_Matthew_75P_JPM_Sim281', 'TS_Matthew_75P_JPM_Sim282', 'TS_Matthew_75P_JPM_Sim283', 'TS_Matthew_75P_JPM_Sim284', 'TS_Matthew_75P_JPM_Sim285', 'TS_Matthew_75P_JPM_Sim286', 'TS_Matthew_75P_JPM_Sim287', 'TS_Matthew_75P_JPM_Sim288', 'TS_Matthew_75P_JPM_Sim289', 'TS_Matthew_75P_JPM_Sim29', 'TS_Matthew_75P_JPM_Sim290', 'TS_Matthew_75P_JPM_Sim291', 'TS_Matthew_75P_JPM_Sim292', 'TS_Matthew_75P_JPM_Sim293', 'TS_Matthew_75P_JPM_Sim294', 'TS_Matthew_75P_JPM_Sim295', 'TS_Matthew_75P_JPM_Sim296', 'TS_Matthew_75P_JPM_Sim297', 'TS_Matthew_75P_JPM_Sim298', 'TS_Matthew_75P_JPM_Sim299', 'TS_Matthew_75P_JPM_Sim3', 'TS_Matthew_75P_JPM_Sim30', 'TS_Matthew_75P_JPM_Sim300', 'TS_Matthew_75P_JPM_Sim301', 'TS_Matthew_75P_JPM_Sim302', 'TS_Matthew_75P_JPM_Sim303', 'TS_Matthew_75P_JPM_Sim304', 'TS_Matthew_75P_JPM_Sim305', 'TS_Matthew_75P_JPM_Sim306', 'TS_Matthew_75P_JPM_Sim307', 'TS_Matthew_75P_JPM_Sim308', 'TS_Matthew_75P_JPM_Sim309', 'TS_Matthew_75P_JPM_Sim31', 'TS_Matthew_75P_JPM_Sim310', 'TS_Matthew_75P_JPM_Sim311', 'TS_Matthew_75P_JPM_Sim312', 'TS_Matthew_75P_JPM_Sim313', 'TS_Matthew_75P_JPM_Sim314', 'TS_Matthew_75P_JPM_Sim315', 'TS_Matthew_75P_JPM_Sim316', 'TS_Matthew_75P_JPM_Sim317', 'TS_Matthew_75P_JPM_Sim318', 'TS_Matthew_75P_JPM_Sim319', 'TS_Matthew_75P_JPM_Sim32', 'TS_Matthew_75P_JPM_Sim320', 'TS_Matthew_75P_JPM_Sim321', 'TS_Matthew_75P_JPM_Sim322', 'TS_Matthew_75P_JPM_Sim323', 'TS_Matthew_75P_JPM_Sim324', 'TS_Matthew_75P_JPM_Sim325', 'TS_Matthew_75P_JPM_Sim326', 'TS_Matthew_75P_JPM_Sim327', 'TS_Matthew_75P_JPM_Sim328', 'TS_Matthew_75P_JPM_Sim329', 'TS_Matthew_75P_JPM_Sim33', 'TS_Matthew_75P_JPM_Sim330', 'TS_Matthew_75P_JPM_Sim331', 'TS_Matthew_75P_JPM_Sim332', 'TS_Matthew_75P_JPM_Sim333', 'TS_Matthew_75P_JPM_Sim334', 'TS_Matthew_75P_JPM_Sim335', 'TS_Matthew_75P_JPM_Sim336', 'TS_Matthew_75P_JPM_Sim337', 'TS_Matthew_75P_JPM_Sim338', 'TS_Matthew_75P_JPM_Sim339', 'TS_Matthew_75P_JPM_Sim34', 'TS_Matthew_75P_JPM_Sim340', 'TS_Matthew_75P_JPM_Sim341', 'TS_Matthew_75P_JPM_Sim342', 'TS_Matthew_75P_JPM_Sim343', 'TS_Matthew_75P_JPM_Sim344', 'TS_Matthew_75P_JPM_Sim345', 'TS_Matthew_75P_JPM_Sim346', 'TS_Matthew_75P_JPM_Sim347', 'TS_Matthew_75P_JPM_Sim348', 'TS_Matthew_75P_JPM_Sim349', 'TS_Matthew_75P_JPM_Sim35', 'TS_Matthew_75P_JPM_Sim350', 'TS_Matthew_75P_JPM_Sim351', 'TS_Matthew_75P_JPM_Sim352', 'TS_Matthew_75P_JPM_Sim353', 'TS_Matthew_75P_JPM_Sim354', 'TS_Matthew_75P_JPM_Sim355', 'TS_Matthew_75P_JPM_Sim356', 'TS_Matthew_75P_JPM_Sim357', 'TS_Matthew_75P_JPM_Sim358', 'TS_Matthew_75P_JPM_Sim359', 'TS_Matthew_75P_JPM_Sim36', 'TS_Matthew_75P_JPM_Sim360', 'TS_Matthew_75P_JPM_Sim361', 'TS_Matthew_75P_JPM_Sim362', 'TS_Matthew_75P_JPM_Sim363', 'TS_Matthew_75P_JPM_Sim364', 'TS_Matthew_75P_JPM_Sim365', 'TS_Matthew_75P_JPM_Sim366', 'TS_Matthew_75P_JPM_Sim367', 'TS_Matthew_75P_JPM_Sim368', 'TS_Matthew_75P_JPM_Sim369', 'TS_Matthew_75P_JPM_Sim37', 'TS_Matthew_75P_JPM_Sim370', 'TS_Matthew_75P_JPM_Sim371', 'TS_Matthew_75P_JPM_Sim372', 'TS_Matthew_75P_JPM_Sim373', 'TS_Matthew_75P_JPM_Sim374', 'TS_Matthew_75P_JPM_Sim375', 'TS_Matthew_75P_JPM_Sim376', 'TS_Matthew_75P_JPM_Sim377', 'TS_Matthew_75P_JPM_Sim378', 'TS_Matthew_75P_JPM_Sim379', 'TS_Matthew_75P_JPM_Sim38', 'TS_Matthew_75P_JPM_Sim380', 'TS_Matthew_75P_JPM_Sim381', 'TS_Matthew_75P_JPM_Sim382', 'TS_Matthew_75P_JPM_Sim383', 'TS_Matthew_75P_JPM_Sim384', 'TS_Matthew_75P_JPM_Sim385', 'TS_Matthew_75P_JPM_Sim386', 'TS_Matthew_75P_JPM_Sim387', 'TS_Matthew_75P_JPM_Sim388', 'TS_Matthew_75P_JPM_Sim389', 'TS_Matthew_75P_JPM_Sim39', 'TS_Matthew_75P_JPM_Sim390', 'TS_Matthew_75P_JPM_Sim391', 'TS_Matthew_75P_JPM_Sim392', 'TS_Matthew_75P_JPM_Sim393', 'TS_Matthew_75P_JPM_Sim394', 'TS_Matthew_75P_JPM_Sim395', 'TS_Matthew_75P_JPM_Sim396', 'TS_Matthew_75P_JPM_Sim397', 'TS_Matthew_75P_JPM_Sim398', 'TS_Matthew_75P_JPM_Sim399', 'TS_Matthew_75P_JPM_Sim4', 'TS_Matthew_75P_JPM_Sim40', 'TS_Matthew_75P_JPM_Sim400', 'TS_Matthew_75P_JPM_Sim401', 'TS_Matthew_75P_JPM_Sim402', 'TS_Matthew_75P_JPM_Sim403', 'TS_Matthew_75P_JPM_Sim404', 'TS_Matthew_75P_JPM_Sim405', 'TS_Matthew_75P_JPM_Sim406', 'TS_Matthew_75P_JPM_Sim407', 'TS_Matthew_75P_JPM_Sim408', 'TS_Matthew_75P_JPM_Sim409', 'TS_Matthew_75P_JPM_Sim41', 'TS_Matthew_75P_JPM_Sim410', 'TS_Matthew_75P_JPM_Sim411', 'TS_Matthew_75P_JPM_Sim412', 'TS_Matthew_75P_JPM_Sim413', 'TS_Matthew_75P_JPM_Sim414', 'TS_Matthew_75P_JPM_Sim415', 'TS_Matthew_75P_JPM_Sim416', 'TS_Matthew_75P_JPM_Sim417', 'TS_Matthew_75P_JPM_Sim418', 'TS_Matthew_75P_JPM_Sim419', 'TS_Matthew_75P_JPM_Sim42', 'TS_Matthew_75P_JPM_Sim420', 'TS_Matthew_75P_JPM_Sim421', 'TS_Matthew_75P_JPM_Sim422', 'TS_Matthew_75P_JPM_Sim423', 'TS_Matthew_75P_JPM_Sim424', 'TS_Matthew_75P_JPM_Sim425', 'TS_Matthew_75P_JPM_Sim426', 'TS_Matthew_75P_JPM_Sim427', 'TS_Matthew_75P_JPM_Sim428', 'TS_Matthew_75P_JPM_Sim429', 'TS_Matthew_75P_JPM_Sim43', 'TS_Matthew_75P_JPM_Sim430', 'TS_Matthew_75P_JPM_Sim431', 'TS_Matthew_75P_JPM_Sim432', 'TS_Matthew_75P_JPM_Sim433', 'TS_Matthew_75P_JPM_Sim434', 'TS_Matthew_75P_JPM_Sim435', 'TS_Matthew_75P_JPM_Sim436', 'TS_Matthew_75P_JPM_Sim437', 'TS_Matthew_75P_JPM_Sim438', 'TS_Matthew_75P_JPM_Sim439', 'TS_Matthew_75P_JPM_Sim44', 'TS_Matthew_75P_JPM_Sim440', 'TS_Matthew_75P_JPM_Sim441', 'TS_Matthew_75P_JPM_Sim442', 'TS_Matthew_75P_JPM_Sim443', 'TS_Matthew_75P_JPM_Sim444', 'TS_Matthew_75P_JPM_Sim445', 'TS_Matthew_75P_JPM_Sim446', 'TS_Matthew_75P_JPM_Sim447', 'TS_Matthew_75P_JPM_Sim448', 'TS_Matthew_75P_JPM_Sim449', 'TS_Matthew_75P_JPM_Sim45', 'TS_Matthew_75P_JPM_Sim450', 'TS_Matthew_75P_JPM_Sim451', 'TS_Matthew_75P_JPM_Sim452', 'TS_Matthew_75P_JPM_Sim453', 'TS_Matthew_75P_JPM_Sim454', 'TS_Matthew_75P_JPM_Sim455', 'TS_Matthew_75P_JPM_Sim456', 'TS_Matthew_75P_JPM_Sim457', 'TS_Matthew_75P_JPM_Sim458', 'TS_Matthew_75P_JPM_Sim459', 'TS_Matthew_75P_JPM_Sim46', 'TS_Matthew_75P_JPM_Sim460', 'TS_Matthew_75P_JPM_Sim461', 'TS_Matthew_75P_JPM_Sim462', 'TS_Matthew_75P_JPM_Sim463', 'TS_Matthew_75P_JPM_Sim464', 'TS_Matthew_75P_JPM_Sim465', 'TS_Matthew_75P_JPM_Sim466', 'TS_Matthew_75P_JPM_Sim467', 'TS_Matthew_75P_JPM_Sim468', 'TS_Matthew_75P_JPM_Sim469', 'TS_Matthew_75P_JPM_Sim47', 'TS_Matthew_75P_JPM_Sim470', 'TS_Matthew_75P_JPM_Sim471', 'TS_Matthew_75P_JPM_Sim472', 'TS_Matthew_75P_JPM_Sim473', 'TS_Matthew_75P_JPM_Sim474', 'TS_Matthew_75P_JPM_Sim475', 'TS_Matthew_75P_JPM_Sim476', 'TS_Matthew_75P_JPM_Sim477', 'TS_Matthew_75P_JPM_Sim478', 'TS_Matthew_75P_JPM_Sim479', 'TS_Matthew_75P_JPM_Sim48', 'TS_Matthew_75P_JPM_Sim480', 'TS_Matthew_75P_JPM_Sim481', 'TS_Matthew_75P_JPM_Sim482', 'TS_Matthew_75P_JPM_Sim483', 'TS_Matthew_75P_JPM_Sim484', 'TS_Matthew_75P_JPM_Sim485', 'TS_Matthew_75P_JPM_Sim486', 'TS_Matthew_75P_JPM_Sim487', 'TS_Matthew_75P_JPM_Sim488', 'TS_Matthew_75P_JPM_Sim489', 'TS_Matthew_75P_JPM_Sim49', 'TS_Matthew_75P_JPM_Sim490', 'TS_Matthew_75P_JPM_Sim491', 'TS_Matthew_75P_JPM_Sim492', 'TS_Matthew_75P_JPM_Sim493', 'TS_Matthew_75P_JPM_Sim494', 'TS_Matthew_75P_JPM_Sim495', 'TS_Matthew_75P_JPM_Sim496', 'TS_Matthew_75P_JPM_Sim497', 'TS_Matthew_75P_JPM_Sim498', 'TS_Matthew_75P_JPM_Sim499', 'TS_Matthew_75P_JPM_Sim5', 'TS_Matthew_75P_JPM_Sim50', 'TS_Matthew_75P_JPM_Sim500', 'TS_Matthew_75P_JPM_Sim501', 'TS_Matthew_75P_JPM_Sim502', 'TS_Matthew_75P_JPM_Sim503', 'TS_Matthew_75P_JPM_Sim504', 'TS_Matthew_75P_JPM_Sim505', 'TS_Matthew_75P_JPM_Sim506', 'TS_Matthew_75P_JPM_Sim507', 'TS_Matthew_75P_JPM_Sim508', 'TS_Matthew_75P_JPM_Sim509', 'TS_Matthew_75P_JPM_Sim51', 'TS_Matthew_75P_JPM_Sim510', 'TS_Matthew_75P_JPM_Sim511', 'TS_Matthew_75P_JPM_Sim512', 'TS_Matthew_75P_JPM_Sim513', 'TS_Matthew_75P_JPM_Sim514', 'TS_Matthew_75P_JPM_Sim515', 'TS_Matthew_75P_JPM_Sim516', 'TS_Matthew_75P_JPM_Sim517', 'TS_Matthew_75P_JPM_Sim518', 'TS_Matthew_75P_JPM_Sim519', 'TS_Matthew_75P_JPM_Sim52', 'TS_Matthew_75P_JPM_Sim520', 'TS_Matthew_75P_JPM_Sim521', 'TS_Matthew_75P_JPM_Sim522', 'TS_Matthew_75P_JPM_Sim523', 'TS_Matthew_75P_JPM_Sim524', 'TS_Matthew_75P_JPM_Sim525', 'TS_Matthew_75P_JPM_Sim526', 'TS_Matthew_75P_JPM_Sim527', 'TS_Matthew_75P_JPM_Sim528', 'TS_Matthew_75P_JPM_Sim529', 'TS_Matthew_75P_JPM_Sim53', 'TS_Matthew_75P_JPM_Sim530', 'TS_Matthew_75P_JPM_Sim531', 'TS_Matthew_75P_JPM_Sim532', 'TS_Matthew_75P_JPM_Sim533', 'TS_Matthew_75P_JPM_Sim534', 'TS_Matthew_75P_JPM_Sim535', 'TS_Matthew_75P_JPM_Sim536', 'TS_Matthew_75P_JPM_Sim537', 'TS_Matthew_75P_JPM_Sim538', 'TS_Matthew_75P_JPM_Sim539', 'TS_Matthew_75P_JPM_Sim54', 'TS_Matthew_75P_JPM_Sim540', 'TS_Matthew_75P_JPM_Sim541', 'TS_Matthew_75P_JPM_Sim542', 'TS_Matthew_75P_JPM_Sim543', 'TS_Matthew_75P_JPM_Sim544', 'TS_Matthew_75P_JPM_Sim545', 'TS_Matthew_75P_JPM_Sim546', 'TS_Matthew_75P_JPM_Sim547', 'TS_Matthew_75P_JPM_Sim548', 'TS_Matthew_75P_JPM_Sim549', 'TS_Matthew_75P_JPM_Sim55', 'TS_Matthew_75P_JPM_Sim550', 'TS_Matthew_75P_JPM_Sim551', 'TS_Matthew_75P_JPM_Sim552', 'TS_Matthew_75P_JPM_Sim553', 'TS_Matthew_75P_JPM_Sim554', 'TS_Matthew_75P_JPM_Sim555', 'TS_Matthew_75P_JPM_Sim556', 'TS_Matthew_75P_JPM_Sim557', 'TS_Matthew_75P_JPM_Sim558', 'TS_Matthew_75P_JPM_Sim559', 'TS_Matthew_75P_JPM_Sim56', 'TS_Matthew_75P_JPM_Sim560', 'TS_Matthew_75P_JPM_Sim561', 'TS_Matthew_75P_JPM_Sim562', 'TS_Matthew_75P_JPM_Sim563', 'TS_Matthew_75P_JPM_Sim564', 'TS_Matthew_75P_JPM_Sim565', 'TS_Matthew_75P_JPM_Sim566', 'TS_Matthew_75P_JPM_Sim567', 'TS_Matthew_75P_JPM_Sim568', 'TS_Matthew_75P_JPM_Sim569', 'TS_Matthew_75P_JPM_Sim57', 'TS_Matthew_75P_JPM_Sim570', 'TS_Matthew_75P_JPM_Sim571', 'TS_Matthew_75P_JPM_Sim572', 'TS_Matthew_75P_JPM_Sim573', 'TS_Matthew_75P_JPM_Sim574', 'TS_Matthew_75P_JPM_Sim575', 'TS_Matthew_75P_JPM_Sim576', 'TS_Matthew_75P_JPM_Sim577', 'TS_Matthew_75P_JPM_Sim578', 'TS_Matthew_75P_JPM_Sim579', 'TS_Matthew_75P_JPM_Sim58', 'TS_Matthew_75P_JPM_Sim580', 'TS_Matthew_75P_JPM_Sim581', 'TS_Matthew_75P_JPM_Sim582', 'TS_Matthew_75P_JPM_Sim583', 'TS_Matthew_75P_JPM_Sim584', 'TS_Matthew_75P_JPM_Sim585', 'TS_Matthew_75P_JPM_Sim586', 'TS_Matthew_75P_JPM_Sim587', 'TS_Matthew_75P_JPM_Sim588', 'TS_Matthew_75P_JPM_Sim589', 'TS_Matthew_75P_JPM_Sim59', 'TS_Matthew_75P_JPM_Sim590', 'TS_Matthew_75P_JPM_Sim591', 'TS_Matthew_75P_JPM_Sim592', 'TS_Matthew_75P_JPM_Sim593', 'TS_Matthew_75P_JPM_Sim594', 'TS_Matthew_75P_JPM_Sim595', 'TS_Matthew_75P_JPM_Sim596', 'TS_Matthew_75P_JPM_Sim597', 'TS_Matthew_75P_JPM_Sim598', 'TS_Matthew_75P_JPM_Sim599', 'TS_Matthew_75P_JPM_Sim6', 'TS_Matthew_75P_JPM_Sim60', 'TS_Matthew_75P_JPM_Sim600', 'TS_Matthew_75P_JPM_Sim601', 'TS_Matthew_75P_JPM_Sim602', 'TS_Matthew_75P_JPM_Sim603', 'TS_Matthew_75P_JPM_Sim604', 'TS_Matthew_75P_JPM_Sim605', 'TS_Matthew_75P_JPM_Sim606', 'TS_Matthew_75P_JPM_Sim607', 'TS_Matthew_75P_JPM_Sim608', 'TS_Matthew_75P_JPM_Sim609', 'TS_Matthew_75P_JPM_Sim61', 'TS_Matthew_75P_JPM_Sim610', 'TS_Matthew_75P_JPM_Sim611', 'TS_Matthew_75P_JPM_Sim612', 'TS_Matthew_75P_JPM_Sim613', 'TS_Matthew_75P_JPM_Sim614', 'TS_Matthew_75P_JPM_Sim615', 'TS_Matthew_75P_JPM_Sim616', 'TS_Matthew_75P_JPM_Sim617', 'TS_Matthew_75P_JPM_Sim618', 'TS_Matthew_75P_JPM_Sim619', 'TS_Matthew_75P_JPM_Sim62', 'TS_Matthew_75P_JPM_Sim620', 'TS_Matthew_75P_JPM_Sim621', 'TS_Matthew_75P_JPM_Sim622', 'TS_Matthew_75P_JPM_Sim623', 'TS_Matthew_75P_JPM_Sim624', 'TS_Matthew_75P_JPM_Sim625', 'TS_Matthew_75P_JPM_Sim626', 'TS_Matthew_75P_JPM_Sim627', 'TS_Matthew_75P_JPM_Sim628', 'TS_Matthew_75P_JPM_Sim629', 'TS_Matthew_75P_JPM_Sim63', 'TS_Matthew_75P_JPM_Sim630', 'TS_Matthew_75P_JPM_Sim631', 'TS_Matthew_75P_JPM_Sim632', 'TS_Matthew_75P_JPM_Sim633', 'TS_Matthew_75P_JPM_Sim634', 'TS_Matthew_75P_JPM_Sim635', 'TS_Matthew_75P_JPM_Sim636', 'TS_Matthew_75P_JPM_Sim637', 'TS_Matthew_75P_JPM_Sim638', 'TS_Matthew_75P_JPM_Sim639', 'TS_Matthew_75P_JPM_Sim64', 'TS_Matthew_75P_JPM_Sim640', 'TS_Matthew_75P_JPM_Sim641', 'TS_Matthew_75P_JPM_Sim642', 'TS_Matthew_75P_JPM_Sim643', 'TS_Matthew_75P_JPM_Sim644', 'TS_Matthew_75P_JPM_Sim645', 'TS_Matthew_75P_JPM_Sim646', 'TS_Matthew_75P_JPM_Sim647', 'TS_Matthew_75P_JPM_Sim648', 'TS_Matthew_75P_JPM_Sim649', 'TS_Matthew_75P_JPM_Sim65', 'TS_Matthew_75P_JPM_Sim650', 'TS_Matthew_75P_JPM_Sim651', 'TS_Matthew_75P_JPM_Sim652', 'TS_Matthew_75P_JPM_Sim653', 'TS_Matthew_75P_JPM_Sim654', 'TS_Matthew_75P_JPM_Sim655', 'TS_Matthew_75P_JPM_Sim656', 'TS_Matthew_75P_JPM_Sim657', 'TS_Matthew_75P_JPM_Sim658', 'TS_Matthew_75P_JPM_Sim659', 'TS_Matthew_75P_JPM_Sim66', 'TS_Matthew_75P_JPM_Sim660', 'TS_Matthew_75P_JPM_Sim661', 'TS_Matthew_75P_JPM_Sim662', 'TS_Matthew_75P_JPM_Sim663', 'TS_Matthew_75P_JPM_Sim664', 'TS_Matthew_75P_JPM_Sim665', 'TS_Matthew_75P_JPM_Sim666', 'TS_Matthew_75P_JPM_Sim667', 'TS_Matthew_75P_JPM_Sim668', 'TS_Matthew_75P_JPM_Sim669', 'TS_Matthew_75P_JPM_Sim67', 'TS_Matthew_75P_JPM_Sim670', 'TS_Matthew_75P_JPM_Sim671', 'TS_Matthew_75P_JPM_Sim672', 'TS_Matthew_75P_JPM_Sim673', 'TS_Matthew_75P_JPM_Sim674', 'TS_Matthew_75P_JPM_Sim675', 'TS_Matthew_75P_JPM_Sim676', 'TS_Matthew_75P_JPM_Sim677', 'TS_Matthew_75P_JPM_Sim678', 'TS_Matthew_75P_JPM_Sim679', 'TS_Matthew_75P_JPM_Sim68', 'TS_Matthew_75P_JPM_Sim680', 'TS_Matthew_75P_JPM_Sim681', 'TS_Matthew_75P_JPM_Sim682', 'TS_Matthew_75P_JPM_Sim683', 'TS_Matthew_75P_JPM_Sim684', 'TS_Matthew_75P_JPM_Sim685', 'TS_Matthew_75P_JPM_Sim686', 'TS_Matthew_75P_JPM_Sim687', 'TS_Matthew_75P_JPM_Sim688', 'TS_Matthew_75P_JPM_Sim689', 'TS_Matthew_75P_JPM_Sim69', 'TS_Matthew_75P_JPM_Sim690', 'TS_Matthew_75P_JPM_Sim691', 'TS_Matthew_75P_JPM_Sim692', 'TS_Matthew_75P_JPM_Sim693', 'TS_Matthew_75P_JPM_Sim694', 'TS_Matthew_75P_JPM_Sim695', 'TS_Matthew_75P_JPM_Sim696', 'TS_Matthew_75P_JPM_Sim697', 'TS_Matthew_75P_JPM_Sim698', 'TS_Matthew_75P_JPM_Sim699', 'TS_Matthew_75P_JPM_Sim7', 'TS_Matthew_75P_JPM_Sim70', 'TS_Matthew_75P_JPM_Sim700', 'TS_Matthew_75P_JPM_Sim701', 'TS_Matthew_75P_JPM_Sim702', 'TS_Matthew_75P_JPM_Sim703', 'TS_Matthew_75P_JPM_Sim704', 'TS_Matthew_75P_JPM_Sim705', 'TS_Matthew_75P_JPM_Sim706', 'TS_Matthew_75P_JPM_Sim707', 'TS_Matthew_75P_JPM_Sim708', 'TS_Matthew_75P_JPM_Sim709', 'TS_Matthew_75P_JPM_Sim71', 'TS_Matthew_75P_JPM_Sim710', 'TS_Matthew_75P_JPM_Sim711', 'TS_Matthew_75P_JPM_Sim712', 'TS_Matthew_75P_JPM_Sim713', 'TS_Matthew_75P_JPM_Sim714', 'TS_Matthew_75P_JPM_Sim715', 'TS_Matthew_75P_JPM_Sim716', 'TS_Matthew_75P_JPM_Sim717', 'TS_Matthew_75P_JPM_Sim718', 'TS_Matthew_75P_JPM_Sim719', 'TS_Matthew_75P_JPM_Sim72', 'TS_Matthew_75P_JPM_Sim720', 'TS_Matthew_75P_JPM_Sim721', 'TS_Matthew_75P_JPM_Sim722', 'TS_Matthew_75P_JPM_Sim723', 'TS_Matthew_75P_JPM_Sim724', 'TS_Matthew_75P_JPM_Sim725', 'TS_Matthew_75P_JPM_Sim726', 'TS_Matthew_75P_JPM_Sim727', 'TS_Matthew_75P_JPM_Sim728', 'TS_Matthew_75P_JPM_Sim729', 'TS_Matthew_75P_JPM_Sim73', 'TS_Matthew_75P_JPM_Sim730', 'TS_Matthew_75P_JPM_Sim731', 'TS_Matthew_75P_JPM_Sim732', 'TS_Matthew_75P_JPM_Sim733', 'TS_Matthew_75P_JPM_Sim734', 'TS_Matthew_75P_JPM_Sim735', 'TS_Matthew_75P_JPM_Sim736', 'TS_Matthew_75P_JPM_Sim737', 'TS_Matthew_75P_JPM_Sim738', 'TS_Matthew_75P_JPM_Sim739', 'TS_Matthew_75P_JPM_Sim74', 'TS_Matthew_75P_JPM_Sim740', 'TS_Matthew_75P_JPM_Sim741', 'TS_Matthew_75P_JPM_Sim742', 'TS_Matthew_75P_JPM_Sim743', 'TS_Matthew_75P_JPM_Sim744', 'TS_Matthew_75P_JPM_Sim745', 'TS_Matthew_75P_JPM_Sim746', 'TS_Matthew_75P_JPM_Sim747', 'TS_Matthew_75P_JPM_Sim748', 'TS_Matthew_75P_JPM_Sim749', 'TS_Matthew_75P_JPM_Sim75', 'TS_Matthew_75P_JPM_Sim750', 'TS_Matthew_75P_JPM_Sim751', 'TS_Matthew_75P_JPM_Sim752', 'TS_Matthew_75P_JPM_Sim753', 'TS_Matthew_75P_JPM_Sim754', 'TS_Matthew_75P_JPM_Sim755', 'TS_Matthew_75P_JPM_Sim756', 'TS_Matthew_75P_JPM_Sim757', 'TS_Matthew_75P_JPM_Sim758', 'TS_Matthew_75P_JPM_Sim759', 'TS_Matthew_75P_JPM_Sim76', 'TS_Matthew_75P_JPM_Sim760', 'TS_Matthew_75P_JPM_Sim761', 'TS_Matthew_75P_JPM_Sim762', 'TS_Matthew_75P_JPM_Sim763', 'TS_Matthew_75P_JPM_Sim764', 'TS_Matthew_75P_JPM_Sim765', 'TS_Matthew_75P_JPM_Sim766', 'TS_Matthew_75P_JPM_Sim767', 'TS_Matthew_75P_JPM_Sim768', 'TS_Matthew_75P_JPM_Sim769', 'TS_Matthew_75P_JPM_Sim77', 'TS_Matthew_75P_JPM_Sim770', 'TS_Matthew_75P_JPM_Sim771', 'TS_Matthew_75P_JPM_Sim772', 'TS_Matthew_75P_JPM_Sim773', 'TS_Matthew_75P_JPM_Sim774', 'TS_Matthew_75P_JPM_Sim775', 'TS_Matthew_75P_JPM_Sim776', 'TS_Matthew_75P_JPM_Sim777', 'TS_Matthew_75P_JPM_Sim778', 'TS_Matthew_75P_JPM_Sim779', 'TS_Matthew_75P_JPM_Sim78', 'TS_Matthew_75P_JPM_Sim780', 'TS_Matthew_75P_JPM_Sim781', 'TS_Matthew_75P_JPM_Sim782', 'TS_Matthew_75P_JPM_Sim783', 'TS_Matthew_75P_JPM_Sim784', 'TS_Matthew_75P_JPM_Sim785', 'TS_Matthew_75P_JPM_Sim786', 'TS_Matthew_75P_JPM_Sim787', 'TS_Matthew_75P_JPM_Sim788', 'TS_Matthew_75P_JPM_Sim789', 'TS_Matthew_75P_JPM_Sim79', 'TS_Matthew_75P_JPM_Sim790', 'TS_Matthew_75P_JPM_Sim791', 'TS_Matthew_75P_JPM_Sim792', 'TS_Matthew_75P_JPM_Sim793', 'TS_Matthew_75P_JPM_Sim794', 'TS_Matthew_75P_JPM_Sim795', 'TS_Matthew_75P_JPM_Sim796', 'TS_Matthew_75P_JPM_Sim797', 'TS_Matthew_75P_JPM_Sim798', 'TS_Matthew_75P_JPM_Sim799', 'TS_Matthew_75P_JPM_Sim8', 'TS_Matthew_75P_JPM_Sim80', 'TS_Matthew_75P_JPM_Sim800', 'TS_Matthew_75P_JPM_Sim801', 'TS_Matthew_75P_JPM_Sim802', 'TS_Matthew_75P_JPM_Sim803', 'TS_Matthew_75P_JPM_Sim804', 'TS_Matthew_75P_JPM_Sim805', 'TS_Matthew_75P_JPM_Sim806', 'TS_Matthew_75P_JPM_Sim807', 'TS_Matthew_75P_JPM_Sim808', 'TS_Matthew_75P_JPM_Sim809', 'TS_Matthew_75P_JPM_Sim81', 'TS_Matthew_75P_JPM_Sim810', 'TS_Matthew_75P_JPM_Sim811', 'TS_Matthew_75P_JPM_Sim812', 'TS_Matthew_75P_JPM_Sim813', 'TS_Matthew_75P_JPM_Sim814', 'TS_Matthew_75P_JPM_Sim815', 'TS_Matthew_75P_JPM_Sim816', 'TS_Matthew_75P_JPM_Sim817', 'TS_Matthew_75P_JPM_Sim818', 'TS_Matthew_75P_JPM_Sim819', 'TS_Matthew_75P_JPM_Sim82', 'TS_Matthew_75P_JPM_Sim820', 'TS_Matthew_75P_JPM_Sim821', 'TS_Matthew_75P_JPM_Sim822', 'TS_Matthew_75P_JPM_Sim823', 'TS_Matthew_75P_JPM_Sim824', 'TS_Matthew_75P_JPM_Sim825', 'TS_Matthew_75P_JPM_Sim826', 'TS_Matthew_75P_JPM_Sim827', 'TS_Matthew_75P_JPM_Sim828', 'TS_Matthew_75P_JPM_Sim829', 'TS_Matthew_75P_JPM_Sim83', 'TS_Matthew_75P_JPM_Sim830', 'TS_Matthew_75P_JPM_Sim831', 'TS_Matthew_75P_JPM_Sim832', 'TS_Matthew_75P_JPM_Sim833', 'TS_Matthew_75P_JPM_Sim834', 'TS_Matthew_75P_JPM_Sim835', 'TS_Matthew_75P_JPM_Sim836', 'TS_Matthew_75P_JPM_Sim837', 'TS_Matthew_75P_JPM_Sim838', 'TS_Matthew_75P_JPM_Sim839', 'TS_Matthew_75P_JPM_Sim84', 'TS_Matthew_75P_JPM_Sim840', 'TS_Matthew_75P_JPM_Sim841', 'TS_Matthew_75P_JPM_Sim842', 'TS_Matthew_75P_JPM_Sim843', 'TS_Matthew_75P_JPM_Sim844', 'TS_Matthew_75P_JPM_Sim845', 'TS_Matthew_75P_JPM_Sim846', 'TS_Matthew_75P_JPM_Sim847', 'TS_Matthew_75P_JPM_Sim848', 'TS_Matthew_75P_JPM_Sim849', 'TS_Matthew_75P_JPM_Sim85', 'TS_Matthew_75P_JPM_Sim850', 'TS_Matthew_75P_JPM_Sim851', 'TS_Matthew_75P_JPM_Sim852', 'TS_Matthew_75P_JPM_Sim853', 'TS_Matthew_75P_JPM_Sim854', 'TS_Matthew_75P_JPM_Sim855', 'TS_Matthew_75P_JPM_Sim856', 'TS_Matthew_75P_JPM_Sim857', 'TS_Matthew_75P_JPM_Sim858', 'TS_Matthew_75P_JPM_Sim859', 'TS_Matthew_75P_JPM_Sim86', 'TS_Matthew_75P_JPM_Sim860', 'TS_Matthew_75P_JPM_Sim861', 'TS_Matthew_75P_JPM_Sim862', 'TS_Matthew_75P_JPM_Sim863', 'TS_Matthew_75P_JPM_Sim864', 'TS_Matthew_75P_JPM_Sim865', 'TS_Matthew_75P_JPM_Sim866', 'TS_Matthew_75P_JPM_Sim867', 'TS_Matthew_75P_JPM_Sim868', 'TS_Matthew_75P_JPM_Sim869', 'TS_Matthew_75P_JPM_Sim87', 'TS_Matthew_75P_JPM_Sim870', 'TS_Matthew_75P_JPM_Sim871', 'TS_Matthew_75P_JPM_Sim872', 'TS_Matthew_75P_JPM_Sim873', 'TS_Matthew_75P_JPM_Sim874', 'TS_Matthew_75P_JPM_Sim875', 'TS_Matthew_75P_JPM_Sim876', 'TS_Matthew_75P_JPM_Sim877', 'TS_Matthew_75P_JPM_Sim878', 'TS_Matthew_75P_JPM_Sim879', 'TS_Matthew_75P_JPM_Sim88', 'TS_Matthew_75P_JPM_Sim880', 'TS_Matthew_75P_JPM_Sim881', 'TS_Matthew_75P_JPM_Sim882', 'TS_Matthew_75P_JPM_Sim883', 'TS_Matthew_75P_JPM_Sim884', 'TS_Matthew_75P_JPM_Sim885', 'TS_Matthew_75P_JPM_Sim886', 'TS_Matthew_75P_JPM_Sim887', 'TS_Matthew_75P_JPM_Sim888', 'TS_Matthew_75P_JPM_Sim889', 'TS_Matthew_75P_JPM_Sim89', 'TS_Matthew_75P_JPM_Sim890', 'TS_Matthew_75P_JPM_Sim891', 'TS_Matthew_75P_JPM_Sim892', 'TS_Matthew_75P_JPM_Sim893', 'TS_Matthew_75P_JPM_Sim894', 'TS_Matthew_75P_JPM_Sim895', 'TS_Matthew_75P_JPM_Sim896', 'TS_Matthew_75P_JPM_Sim897', 'TS_Matthew_75P_JPM_Sim898', 'TS_Matthew_75P_JPM_Sim899', 'TS_Matthew_75P_JPM_Sim9', 'TS_Matthew_75P_JPM_Sim90', 'TS_Matthew_75P_JPM_Sim900', 'TS_Matthew_75P_JPM_Sim901', 'TS_Matthew_75P_JPM_Sim902', 'TS_Matthew_75P_JPM_Sim903', 'TS_Matthew_75P_JPM_Sim904', 'TS_Matthew_75P_JPM_Sim905', 'TS_Matthew_75P_JPM_Sim906', 'TS_Matthew_75P_JPM_Sim907', 'TS_Matthew_75P_JPM_Sim908', 'TS_Matthew_75P_JPM_Sim909', 'TS_Matthew_75P_JPM_Sim91', 'TS_Matthew_75P_JPM_Sim910', 'TS_Matthew_75P_JPM_Sim911', 'TS_Matthew_75P_JPM_Sim912', 'TS_Matthew_75P_JPM_Sim913', 'TS_Matthew_75P_JPM_Sim914', 'TS_Matthew_75P_JPM_Sim915', 'TS_Matthew_75P_JPM_Sim916', 'TS_Matthew_75P_JPM_Sim917', 'TS_Matthew_75P_JPM_Sim918', 'TS_Matthew_75P_JPM_Sim919', 'TS_Matthew_75P_JPM_Sim92', 'TS_Matthew_75P_JPM_Sim920', 'TS_Matthew_75P_JPM_Sim921', 'TS_Matthew_75P_JPM_Sim922', 'TS_Matthew_75P_JPM_Sim923', 'TS_Matthew_75P_JPM_Sim924', 'TS_Matthew_75P_JPM_Sim925', 'TS_Matthew_75P_JPM_Sim926', 'TS_Matthew_75P_JPM_Sim927', 'TS_Matthew_75P_JPM_Sim928', 'TS_Matthew_75P_JPM_Sim929', 'TS_Matthew_75P_JPM_Sim93', 'TS_Matthew_75P_JPM_Sim930', 'TS_Matthew_75P_JPM_Sim931', 'TS_Matthew_75P_JPM_Sim932', 'TS_Matthew_75P_JPM_Sim933', 'TS_Matthew_75P_JPM_Sim934', 'TS_Matthew_75P_JPM_Sim935', 'TS_Matthew_75P_JPM_Sim936', 'TS_Matthew_75P_JPM_Sim937', 'TS_Matthew_75P_JPM_Sim938', 'TS_Matthew_75P_JPM_Sim939', 'TS_Matthew_75P_JPM_Sim94', 'TS_Matthew_75P_JPM_Sim940', 'TS_Matthew_75P_JPM_Sim941', 'TS_Matthew_75P_JPM_Sim942', 'TS_Matthew_75P_JPM_Sim943', 'TS_Matthew_75P_JPM_Sim944', 'TS_Matthew_75P_JPM_Sim945', 'TS_Matthew_75P_JPM_Sim946', 'TS_Matthew_75P_JPM_Sim947', 'TS_Matthew_75P_JPM_Sim948', 'TS_Matthew_75P_JPM_Sim949', 'TS_Matthew_75P_JPM_Sim95', 'TS_Matthew_75P_JPM_Sim950', 'TS_Matthew_75P_JPM_Sim951', 'TS_Matthew_75P_JPM_Sim952', 'TS_Matthew_75P_JPM_Sim953', 'TS_Matthew_75P_JPM_Sim954', 'TS_Matthew_75P_JPM_Sim955', 'TS_Matthew_75P_JPM_Sim956', 'TS_Matthew_75P_JPM_Sim957', 'TS_Matthew_75P_JPM_Sim958', 'TS_Matthew_75P_JPM_Sim959', 'TS_Matthew_75P_JPM_Sim96', 'TS_Matthew_75P_JPM_Sim960', 'TS_Matthew_75P_JPM_Sim961', 'TS_Matthew_75P_JPM_Sim962', 'TS_Matthew_75P_JPM_Sim963', 'TS_Matthew_75P_JPM_Sim964', 'TS_Matthew_75P_JPM_Sim965', 'TS_Matthew_75P_JPM_Sim966', 'TS_Matthew_75P_JPM_Sim967', 'TS_Matthew_75P_JPM_Sim968', 'TS_Matthew_75P_JPM_Sim969', 'TS_Matthew_75P_JPM_Sim97', 'TS_Matthew_75P_JPM_Sim970', 'TS_Matthew_75P_JPM_Sim971', 'TS_Matthew_75P_JPM_Sim972', 'TS_Matthew_75P_JPM_Sim973', 'TS_Matthew_75P_JPM_Sim974', 'TS_Matthew_75P_JPM_Sim975', 'TS_Matthew_75P_JPM_Sim976', 'TS_Matthew_75P_JPM_Sim977', 'TS_Matthew_75P_JPM_Sim978', 'TS_Matthew_75P_JPM_Sim979', 'TS_Matthew_75P_JPM_Sim98', 'TS_Matthew_75P_JPM_Sim980', 'TS_Matthew_75P_JPM_Sim981', 'TS_Matthew_75P_JPM_Sim982', 'TS_Matthew_75P_JPM_Sim983', 'TS_Matthew_75P_JPM_Sim984', 'TS_Matthew_75P_JPM_Sim985', 'TS_Matthew_75P_JPM_Sim986', 'TS_Matthew_75P_JPM_Sim987', 'TS_Matthew_75P_JPM_Sim988', 'TS_Matthew_75P_JPM_Sim989', 'TS_Matthew_75P_JPM_Sim99', 'TS_Matthew_75P_JPM_Sim990', 'TS_Matthew_75P_JPM_Sim991', 'TS_Matthew_75P_JPM_Sim992', 'TS_Matthew_75P_JPM_Sim993', 'TS_Matthew_75P_JPM_Sim994', 'TS_Matthew_75P_JPM_Sim995', 'TS_Matthew_75P_JPM_Sim996', 'TS_Matthew_75P_JPM_Sim997', 'TS_Matthew_75P_JPM_Sim998', 'TS_Matthew_75P_JPM_Sim999']\n"
     ]
    }
   ],
   "source": [
    "# Get each sim\n",
    "basin = \"75P\"\n",
    "dss_files = glob.glob(dss_dir+\"//*.dss\")\n",
    "dss_files = sorted(dss_files)\n",
    "run_list =[]\n",
    "for dss_file in dss_files:\n",
    "    sim = dss_file.split(\".\")[0].split(\"_\")[-1]\n",
    "    run = f'{event}_{basin}_JPM_{sim}'\n",
    "    run_list.append(run)\n",
    "print (run_list)"
   ]
  },
  {
   "cell_type": "code",
   "execution_count": 26,
   "metadata": {},
   "outputs": [],
   "source": [
    "# Grid file append each sim.\n",
    "\n",
    "with open(grid_fn, 'a') as gridFile:\n",
    "    gridFile.write(f\"\"\"\n",
    "Grid: {event}_JPM_{sim}\n",
    "  Grid Type: Precipitation\n",
    "  Last Modified Date: 27 September 2022\n",
    "  Last Modified Time: 22:34:58\n",
    "  Reference Height Units: Meters\n",
    "  Reference Height: 10.0\n",
    "  Data Source Type: External DSS\n",
    "  Variant: Variant-1\n",
    "    Last Variant Modified Date: 27 September 2022\n",
    "    Last Variant Modified Time: 22:34:58\n",
    "    Default Variant: Yes\n",
    "    DSS File Name: {dss_file}\n",
    "    DSS Pathname: /{event}//PRECIPITATION///{sim}/\n",
    "  End Variant: Variant-1\n",
    "  Use Lookup Table: No\n",
    "End:\n",
    "  \"\"\")"
   ]
  },
  {
   "cell_type": "code",
   "execution_count": 30,
   "metadata": {},
   "outputs": [],
   "source": [
    "# create new met file for each sim. JPM_Sim###.met\n",
    "\n",
    "met_fn = f'{event}_JPM_{sim}.met'\n",
    "with open(met_fn, \"w\") as metFile:\n",
    "    metFile.write(f\"\"\"Meteorology: {event}_JPM_{sim}\n",
    "    Last Modified Date: 27 September 2022\n",
    "    Last Modified Time: 20:54:09\n",
    "    Version: 4.10\n",
    "    Unit System: Metric\n",
    "    Set Missing Data to Default: Yes\n",
    "    Precipitation Method: Gridded Precipitation\n",
    "    Air Temperature Method: None\n",
    "    Atmospheric Pressure Method: None\n",
    "    Dew Point Method: None\n",
    "    Wind Speed Method: None\n",
    "    Shortwave Radiation Method: None\n",
    "    Longwave Radiation Method: None\n",
    "    Snowmelt Method: None\n",
    "    Evapotranspiration Method: No Evapotranspiration\n",
    "End:\n",
    "\n",
    "Precip Method Parameters: Gridded Precipitation\n",
    "    Last Modified Date: 27 September 2022\n",
    "    Last Modified Time: 20:54:19\n",
    "    Precip Grid Name: {event}_JPM_{sim}\n",
    "End:\n",
    "    \"\"\")\n"
   ]
  },
  {
   "cell_type": "code",
   "execution_count": 40,
   "metadata": {},
   "outputs": [],
   "source": [
    "# Run file append each sim\n",
    "\n",
    "with open(run_fn, 'a') as runFile:\n",
    "    runFile.write(f\"\"\"\n",
    "Run: {event}_JPM_{sim}\n",
    "     Default Description: Yes\n",
    "     Log File: {event}_JPM_{sim}.log\n",
    "     DSS File: {event}_JPM_{sim}.dss\n",
    "     Is Save Spatial Results: Yes\n",
    "     Spatial Results Write Interval: 60\n",
    "     Last Modified Date: 27 September 2022\n",
    "     Last Modified Time: 21:50:21\n",
    "     Last Execution Date: 27 September 2022\n",
    "     Last Execution Time: 22:35:01\n",
    "     Basin: Consensus- Grid\n",
    "     Precip: {event}_JPM_{sim}\n",
    "     Control: {event}\n",
    "     Save State Type: None\n",
    "     Time-Series Output: Save All\n",
    "     Time Series Results Manager Start:\n",
    "     Time Series Results Manager End:\n",
    "End:\n",
    "    \"\"\")\n"
   ]
  },
  {
   "cell_type": "code",
   "execution_count": 45,
   "metadata": {},
   "outputs": [],
   "source": [
    "# HMS file append each sim\n",
    "\n",
    "with open(hms_fn, 'a') as hmsFile:\n",
    "    hmsFile.write(f\"\"\"\n",
    "Precipitation: {event}_JPM_{sim}\n",
    "     Filename: {event}_JPM_{sim}.met\n",
    "     Description: \n",
    "     Last Modified Date: 27 September 2022\n",
    "     Last Modified Time: 22:34:58\n",
    "End:\n",
    "    \"\"\")\n"
   ]
  }
 ],
 "metadata": {
  "kernelspec": {
   "display_name": "Python 3.10.4 ('XrRio')",
   "language": "python",
   "name": "python3"
  },
  "language_info": {
   "codemirror_mode": {
    "name": "ipython",
    "version": 3
   },
   "file_extension": ".py",
   "mimetype": "text/x-python",
   "name": "python",
   "nbconvert_exporter": "python",
   "pygments_lexer": "ipython3",
   "version": "3.10.4"
  },
  "orig_nbformat": 4,
  "vscode": {
   "interpreter": {
    "hash": "19128478a99f735768fcf3941ea77b79e36d4710fad035ad28d4b89a4e1d564e"
   }
  }
 },
 "nbformat": 4,
 "nbformat_minor": 2
}
