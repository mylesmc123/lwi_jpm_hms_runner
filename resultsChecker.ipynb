{
 "cells": [
  {
   "cell_type": "code",
   "execution_count": 1,
   "metadata": {},
   "outputs": [],
   "source": [
    "import pandas as pd\n",
    "import numpy as np\n",
    "import glob"
   ]
  },
  {
   "cell_type": "code",
   "execution_count": 2,
   "metadata": {},
   "outputs": [],
   "source": [
    "csv_dir = \"ResultsMaker_output\"\n",
    "csv_files = glob.glob(csv_dir+\"//*.csv\")"
   ]
  },
  {
   "cell_type": "code",
   "execution_count": 21,
   "metadata": {},
   "outputs": [],
   "source": [
    "df_results_summary = pd.DataFrame()\n",
    "\n",
    "for csv in csv_files:\n",
    "    df = pd.read_csv(csv)\n",
    "    dict = {\n",
    "        'Name':[csv.split('\\\\')[-1].split(\".\")[0]],\n",
    "        'MaxValue':[df['Values'].max()],\n",
    "        'MaxIndex':[df['Values'].idxmax()]\n",
    "       }\n",
    "    df_result = pd.DataFrame(dict)\n",
    "    df_results_summary = pd.concat([df_results_summary, df_result])\n",
    "    # print (df_result)"
   ]
  },
  {
   "cell_type": "code",
   "execution_count": 23,
   "metadata": {},
   "outputs": [],
   "source": [
    "df_results_summary.to_csv(\"ResultsChecker_output/results_summary.csv\")"
   ]
  }
 ],
 "metadata": {
  "kernelspec": {
   "display_name": "Python 3.9.7 ('xr39')",
   "language": "python",
   "name": "python3"
  },
  "language_info": {
   "codemirror_mode": {
    "name": "ipython",
    "version": 3
   },
   "file_extension": ".py",
   "mimetype": "text/x-python",
   "name": "python",
   "nbconvert_exporter": "python",
   "pygments_lexer": "ipython3",
   "version": "3.9.7"
  },
  "orig_nbformat": 4,
  "vscode": {
   "interpreter": {
    "hash": "56630e547aa29e0d41f7662d70f7d89cb5f9b8fa2e599dfc2d3aadbd013cfd7f"
   }
  }
 },
 "nbformat": 4,
 "nbformat_minor": 2
}
