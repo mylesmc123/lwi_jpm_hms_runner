{
 "cells": [
  {
   "cell_type": "code",
   "execution_count": null,
   "metadata": {},
   "outputs": [],
   "source": []
  },
  {
   "cell_type": "code",
   "execution_count": null,
   "metadata": {},
   "outputs": [],
   "source": [
    "model_dir = r'Z:\\Amite\\HEC_HMS_RE-Calibration\\HMS_Model_AORC_TS_Matthew'\n",
    "dss_dir =  r'Z:\\LWI\\EJPM-OS-Param-Rainfall-Tests\\2004_MATTHEW'\n",
    "grid_fn = r\"Z:\\Amite\\HEC_HMS_RE-Calibration\\HMS_Model_AORC_TS_Matthew\\Amite_Final_HMS_Model.grid\"\n",
    "run_fn = r\"Z:\\Amite\\HEC_HMS_RE-Calibration\\HMS_Model_AORC_TS_Matthew\\Amite_Final_HMS_Model.run\"\n",
    "hms_fn = r\"Z:\\Amite\\HEC_HMS_RE-Calibration\\HMS_Model_AORC_TS_Matthew\\Amite_Final_HMS_Model.hms\""
   ]
  },
  {
   "cell_type": "code",
   "execution_count": null,
   "metadata": {},
   "outputs": [],
   "source": [
    "# Grid file append each sim.\n",
    "\n",
    "# Grid: JPM\n",
    "#      Grid Type: Precipitation\n",
    "#      Last Modified Date: 27 September 2022\n",
    "#      Last Modified Time: 22:34:58\n",
    "#      Reference Height Units: Meters\n",
    "#      Reference Height: 10.0\n",
    "#      Data Source Type: External DSS\n",
    "#      Variant: Variant-1\n",
    "#        Last Variant Modified Date: 27 September 2022\n",
    "#        Last Variant Modified Time: 22:34:58\n",
    "#        Default Variant: Yes\n",
    "#        DSS File Name: Z:\\LWI\\EJPM-OS-Param-Rainfall-Tests\\dss\\PRCP_hourly_2004_MATTHEW_Sim1.dss\n",
    "#        DSS Pathname: /MATTHEW//PRECIPITATION/08OCT2004:1830/08OCT2004:1930/SIM1/\n",
    "#      End Variant: Variant-1\n",
    "#      Use Lookup Table: No\n",
    "# End:"
   ]
  },
  {
   "cell_type": "code",
   "execution_count": null,
   "metadata": {},
   "outputs": [],
   "source": [
    "# create new met file for each sim. JPM_Sim###.met\n",
    "\n",
    "# Meteorology: JPM\n",
    "#      Last Modified Date: 27 September 2022\n",
    "#      Last Modified Time: 20:54:09\n",
    "#      Version: 4.10\n",
    "#      Unit System: Metric\n",
    "#      Set Missing Data to Default: Yes\n",
    "#      Precipitation Method: Gridded Precipitation\n",
    "#      Air Temperature Method: None\n",
    "#      Atmospheric Pressure Method: None\n",
    "#      Dew Point Method: None\n",
    "#      Wind Speed Method: None\n",
    "#      Shortwave Radiation Method: None\n",
    "#      Longwave Radiation Method: None\n",
    "#      Snowmelt Method: None\n",
    "#      Evapotranspiration Method: No Evapotranspiration\n",
    "# End:\n",
    "\n",
    "# Precip Method Parameters: Gridded Precipitation\n",
    "#      Last Modified Date: 27 September 2022\n",
    "#      Last Modified Time: 20:54:19\n",
    "#      Precip Grid Name: JPM\n",
    "# End:\n"
   ]
  },
  {
   "cell_type": "code",
   "execution_count": null,
   "metadata": {},
   "outputs": [],
   "source": [
    "# Run file append each sim\n",
    "\n",
    "# Run: Matthew_JPM_Sim1\n",
    "#      Default Description: Yes\n",
    "#      Log File: Matthew_JPM_Sim1.log\n",
    "#      DSS File: Matthew_JPM_Sim1.dss\n",
    "#      Is Save Spatial Results: Yes\n",
    "#      Spatial Results Write Interval: 60\n",
    "#      Last Modified Date: 27 September 2022\n",
    "#      Last Modified Time: 21:50:21\n",
    "#      Last Execution Date: 27 September 2022\n",
    "#      Last Execution Time: 22:35:01\n",
    "#      Basin: Consensus- Grid\n",
    "#      Precip: JPM\n",
    "#      Control: TS_Matthew\n",
    "#      Save State Type: None\n",
    "#      Time-Series Output: Save All\n",
    "#      Time Series Results Manager Start:\n",
    "#      Time Series Results Manager End:\n",
    "# End:"
   ]
  },
  {
   "cell_type": "code",
   "execution_count": null,
   "metadata": {},
   "outputs": [],
   "source": [
    "# HMS file append each sim\n",
    "\n",
    "# Precipitation: JPM\n",
    "#      Filename: JPM.met\n",
    "#      Description: \n",
    "#      Last Modified Date: 27 September 2022\n",
    "#      Last Modified Time: 22:34:58\n",
    "# End:\n"
   ]
  }
 ],
 "metadata": {
  "language_info": {
   "name": "python"
  },
  "orig_nbformat": 4
 },
 "nbformat": 4,
 "nbformat_minor": 2
}
